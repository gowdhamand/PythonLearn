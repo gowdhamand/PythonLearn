{
 "cells": [
  {
   "cell_type": "code",
   "execution_count": 1,
   "metadata": {},
   "outputs": [
    {
     "name": "stdout",
     "output_type": "stream",
     "text": [
      "The Zen of Python, by Tim Peters\n",
      "\n",
      "Beautiful is better than ugly.\n",
      "Explicit is better than implicit.\n",
      "Simple is better than complex.\n",
      "Complex is better than complicated.\n",
      "Flat is better than nested.\n",
      "Sparse is better than dense.\n",
      "Readability counts.\n",
      "Special cases aren't special enough to break the rules.\n",
      "Although practicality beats purity.\n",
      "Errors should never pass silently.\n",
      "Unless explicitly silenced.\n",
      "In the face of ambiguity, refuse the temptation to guess.\n",
      "There should be one-- and preferably only one --obvious way to do it.\n",
      "Although that way may not be obvious at first unless you're Dutch.\n",
      "Now is better than never.\n",
      "Although never is often better than *right* now.\n",
      "If the implementation is hard to explain, it's a bad idea.\n",
      "If the implementation is easy to explain, it may be a good idea.\n",
      "Namespaces are one honking great idea -- let's do more of those!\n"
     ]
    }
   ],
   "source": [
    "import this"
   ]
  },
  {
   "cell_type": "code",
   "execution_count": 6,
   "metadata": {},
   "outputs": [
    {
     "name": "stdout",
     "output_type": "stream",
     "text": [
      "Hello there, gowdhaman\n",
      "Hello there, karthiga\n",
      "Hello there, shaara\n",
      "gowdhaman,karthiga,shaara\n"
     ]
    }
   ],
   "source": [
    "#String operations\n",
    "names = ['gowdhaman', 'karthiga', 'shaara']\n",
    "\n",
    "# for n in names:\n",
    "#     stmt = 'Hello there ' + n\n",
    "#     print(stmt)\n",
    "    \n",
    "#other way of printing it. It is better way of doing it.\n",
    "for n in names:\n",
    "    print(' '.join(['Hello there,' , n ]))\n",
    "    \n",
    "#Just single liner and joining the strings\n",
    "print(','.join(names))"
   ]
  },
  {
   "cell_type": "code",
   "execution_count": 9,
   "metadata": {},
   "outputs": [
    {
     "name": "stdout",
     "output_type": "stream",
     "text": [
      "/usr/local/bin/sparkR.cmd\n",
      "@echo off\n",
      "\n",
      "rem\n",
      "rem Licensed to the Apache Software Foundation (ASF) under one or more\n",
      "rem contributor license agreements.  See the NOTICE file distributed with\n",
      "rem this work for additional information regarding copyright ownership.\n",
      "rem The ASF licenses this file to You under the Apache License, Version 2.0\n",
      "rem (the \"License\"); you may not use this file except in compliance with\n",
      "rem the License.  You may obtain a copy of the License at\n",
      "rem\n",
      "rem    http://www.apache.org/licenses/LICENSE-2.0\n",
      "rem\n",
      "rem Unless required by applicable law or agreed to in writing, software\n",
      "rem distributed under the License is distributed on an \"AS IS\" BASIS,\n",
      "rem WITHOUT WARRANTIES OR CONDITIONS OF ANY KIND, either express or implied.\n",
      "rem See the License for the specific language governing permissions and\n",
      "rem limitations under the License.\n",
      "rem\n",
      "\n",
      "rem This is the entry point for running SparkR. To avoid polluting the\n",
      "rem environment, it just launches a new cmd to do the real work.\n",
      "\n",
      "cmd /V /E /C \"%~dp0sparkR2.cmd\" %*\n",
      "\n"
     ]
    }
   ],
   "source": [
    "import os\n",
    "\n",
    "location_of_file = '/usr/local/bin'\n",
    "filename = 'sparkR.cmd'\n",
    "\n",
    "print(location_of_file + '/' + filename)\n",
    "\n",
    "with open(os.path.join(location_of_file,filename)) as f:\n",
    "    print(f.read())"
   ]
  },
  {
   "cell_type": "code",
   "execution_count": 12,
   "metadata": {},
   "outputs": [
    {
     "name": "stdout",
     "output_type": "stream",
     "text": [
      "Gowdhaman bought 12 apples today!\n",
      "Gowdhaman bought 12 apples today!\n"
     ]
    }
   ],
   "source": [
    "who = 'Gowdhaman'\n",
    "how_many = 12\n",
    "\n",
    "#Gowdhaman bought 12 apples today!\n",
    "print(who, 'bought', how_many, 'apples today!')\n",
    "print('{} bought {} apples today!'.format(who,how_many))"
   ]
  },
  {
   "cell_type": "code",
   "execution_count": 16,
   "metadata": {},
   "outputs": [],
   "source": [
    "import argparse\n",
    "import sys\n",
    "\n",
    "def main():\n",
    "    parser = argparse.ArgumentParser()\n",
    "    parser.add_argument('--x',type = float, default = 1.0,help='what is the first number?')\n",
    "    parser.add_argument('--y',type = float, default = 1.0,help='what is the second number?')\n",
    "    parser.add_argument('--opreation',type = float, default = 1.0,help='what opreation? (add,sub,mul or div)')\n",
    "    \n",
    "    args = parser.parse_args()\n",
    "    sys.stdout.write(str(calc(args)))\n",
    "\n",
    "def calc(x,y,operation):\n",
    "    if operation == 'add':\n",
    "        return x+y\n",
    "    elif operation == 'mul':\n",
    "        return x*y\n",
    "    elif opreation == 'sub':\n",
    "        return x-y\n",
    "    elif operation == 'div':\n",
    "        return x/y\n",
    "    \n",
    "#operation = calc(7,3,'mul')\n",
    "#print(operation)"
   ]
  },
  {
   "cell_type": "code",
   "execution_count": null,
   "metadata": {},
   "outputs": [],
   "source": []
  }
 ],
 "metadata": {
  "kernelspec": {
   "display_name": "Python 3",
   "language": "python",
   "name": "python3"
  },
  "language_info": {
   "codemirror_mode": {
    "name": "ipython",
    "version": 3
   },
   "file_extension": ".py",
   "mimetype": "text/x-python",
   "name": "python",
   "nbconvert_exporter": "python",
   "pygments_lexer": "ipython3",
   "version": "3.6.2"
  }
 },
 "nbformat": 4,
 "nbformat_minor": 1
}
