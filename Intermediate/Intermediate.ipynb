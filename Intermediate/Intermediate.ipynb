{
 "cells": [
  {
   "cell_type": "code",
   "execution_count": 1,
   "metadata": {},
   "outputs": [
    {
     "name": "stdout",
     "output_type": "stream",
     "text": [
      "The Zen of Python, by Tim Peters\n",
      "\n",
      "Beautiful is better than ugly.\n",
      "Explicit is better than implicit.\n",
      "Simple is better than complex.\n",
      "Complex is better than complicated.\n",
      "Flat is better than nested.\n",
      "Sparse is better than dense.\n",
      "Readability counts.\n",
      "Special cases aren't special enough to break the rules.\n",
      "Although practicality beats purity.\n",
      "Errors should never pass silently.\n",
      "Unless explicitly silenced.\n",
      "In the face of ambiguity, refuse the temptation to guess.\n",
      "There should be one-- and preferably only one --obvious way to do it.\n",
      "Although that way may not be obvious at first unless you're Dutch.\n",
      "Now is better than never.\n",
      "Although never is often better than *right* now.\n",
      "If the implementation is hard to explain, it's a bad idea.\n",
      "If the implementation is easy to explain, it may be a good idea.\n",
      "Namespaces are one honking great idea -- let's do more of those!\n"
     ]
    }
   ],
   "source": [
    "import this"
   ]
  },
  {
   "cell_type": "code",
   "execution_count": 6,
   "metadata": {},
   "outputs": [
    {
     "name": "stdout",
     "output_type": "stream",
     "text": [
      "Hello there, gowdhaman\n",
      "Hello there, karthiga\n",
      "Hello there, shaara\n",
      "gowdhaman,karthiga,shaara\n"
     ]
    }
   ],
   "source": [
    "#String operations\n",
    "names = ['gowdhaman', 'karthiga', 'shaara']\n",
    "\n",
    "# for n in names:\n",
    "#     stmt = 'Hello there ' + n\n",
    "#     print(stmt)\n",
    "    \n",
    "#other way of printing it. It is better way of doing it.\n",
    "for n in names:\n",
    "    print(' '.join(['Hello there,' , n ]))\n",
    "    \n",
    "#Just single liner and joining the strings\n",
    "print(','.join(names))"
   ]
  },
  {
   "cell_type": "code",
   "execution_count": 9,
   "metadata": {},
   "outputs": [
    {
     "name": "stdout",
     "output_type": "stream",
     "text": [
      "/usr/local/bin/sparkR.cmd\n",
      "@echo off\n",
      "\n",
      "rem\n",
      "rem Licensed to the Apache Software Foundation (ASF) under one or more\n",
      "rem contributor license agreements.  See the NOTICE file distributed with\n",
      "rem this work for additional information regarding copyright ownership.\n",
      "rem The ASF licenses this file to You under the Apache License, Version 2.0\n",
      "rem (the \"License\"); you may not use this file except in compliance with\n",
      "rem the License.  You may obtain a copy of the License at\n",
      "rem\n",
      "rem    http://www.apache.org/licenses/LICENSE-2.0\n",
      "rem\n",
      "rem Unless required by applicable law or agreed to in writing, software\n",
      "rem distributed under the License is distributed on an \"AS IS\" BASIS,\n",
      "rem WITHOUT WARRANTIES OR CONDITIONS OF ANY KIND, either express or implied.\n",
      "rem See the License for the specific language governing permissions and\n",
      "rem limitations under the License.\n",
      "rem\n",
      "\n",
      "rem This is the entry point for running SparkR. To avoid polluting the\n",
      "rem environment, it just launches a new cmd to do the real work.\n",
      "\n",
      "cmd /V /E /C \"%~dp0sparkR2.cmd\" %*\n",
      "\n"
     ]
    }
   ],
   "source": [
    "import os\n",
    "\n",
    "location_of_file = '/usr/local/bin'\n",
    "filename = 'sparkR.cmd'\n",
    "\n",
    "print(location_of_file + '/' + filename)\n",
    "\n",
    "with open(os.path.join(location_of_file,filename)) as f:\n",
    "    print(f.read())"
   ]
  },
  {
   "cell_type": "code",
   "execution_count": 12,
   "metadata": {},
   "outputs": [
    {
     "name": "stdout",
     "output_type": "stream",
     "text": [
      "Gowdhaman bought 12 apples today!\n",
      "Gowdhaman bought 12 apples today!\n"
     ]
    }
   ],
   "source": [
    "who = 'Gowdhaman'\n",
    "how_many = 12\n",
    "\n",
    "#Gowdhaman bought 12 apples today!\n",
    "print(who, 'bought', how_many, 'apples today!')\n",
    "print('{} bought {} apples today!'.format(who,how_many))"
   ]
  },
  {
   "cell_type": "code",
   "execution_count": 28,
   "metadata": {},
   "outputs": [],
   "source": [
    "import argparse\n",
    "import sys\n",
    "\n",
    "def main():\n",
    "    parser = argparse.ArgumentParser()\n",
    "    parser.add_argument('--x',type = float, default = 1.0,help='what is the first number?')\n",
    "    parser.add_argument('--y',type = float, default = 1.0,help='what is the second number?')\n",
    "    parser.add_argument('--operation',type = str, default = 'add',help='what opreation? (add,sub,mul or div)')\n",
    "    \n",
    "    args = parser.parse_args()\n",
    "    sys.stdout.write(str(calc(args)))\n",
    "\n",
    "def calc(args):\n",
    "    if args.operation == 'add':\n",
    "        return args.x + args.y\n",
    "    elif args.operation == 'mul':\n",
    "        return args.x * args.y\n",
    "    elif args.opreation == 'sub':\n",
    "        return args.x - args.y\n",
    "    elif args.operation == 'div':\n",
    "        return args.x / args.y\n",
    "    \n",
    "# if __name__ == '__main__':\n",
    "#      main()\n",
    "    \n",
    "#operation = calc(7,3,'mul')\n",
    "#print(operation)"
   ]
  },
  {
   "cell_type": "code",
   "execution_count": 32,
   "metadata": {},
   "outputs": [
    {
     "name": "stdout",
     "output_type": "stream",
     "text": [
      "0\n",
      "1\n",
      "2\n",
      "3\n",
      "4\n"
     ]
    }
   ],
   "source": [
    "for i in range(5):\n",
    "    print(i)"
   ]
  },
  {
   "cell_type": "code",
   "execution_count": 43,
   "metadata": {},
   "outputs": [
    {
     "name": "stdout",
     "output_type": "stream",
     "text": [
      "5\n",
      "10\n",
      "15\n",
      "20\n",
      "25\n",
      "5\n",
      "10\n",
      "5\n"
     ]
    },
    {
     "data": {
      "text/plain": [
       "[None, None, None, None, None, None, None, None]"
      ]
     },
     "execution_count": 43,
     "metadata": {},
     "output_type": "execute_result"
    }
   ],
   "source": [
    "input_list = [5,6,7,10,15,17,20,25,5,10,3,4,5]\n",
    "\n",
    "def div_by_five(i):\n",
    "    if i % 5 == 0:\n",
    "        return True\n",
    "    else:\n",
    "        return False\n",
    "    \n",
    "#store them as list\n",
    "x = [i for i in input_list if div_by_five(i)]\n",
    "#print(x)\n",
    "\n",
    "#store them as generator\n",
    "y = (i for i in input_list if div_by_five(i))\n",
    "#print(y)\n",
    "[print(a) for a in y]"
   ]
  },
  {
   "cell_type": "code",
   "execution_count": 44,
   "metadata": {},
   "outputs": [
    {
     "name": "stdout",
     "output_type": "stream",
     "text": [
      "0 0\n",
      "0 1\n",
      "0 2\n",
      "0 3\n",
      "0 4\n",
      "1 0\n",
      "1 1\n",
      "1 2\n",
      "1 3\n",
      "1 4\n",
      "2 0\n",
      "2 1\n",
      "2 2\n",
      "2 3\n",
      "2 4\n",
      "3 0\n",
      "3 1\n",
      "3 2\n",
      "3 3\n",
      "3 4\n",
      "4 0\n",
      "4 1\n",
      "4 2\n",
      "4 3\n",
      "4 4\n"
     ]
    },
    {
     "data": {
      "text/plain": [
       "[None,\n",
       " None,\n",
       " None,\n",
       " None,\n",
       " None,\n",
       " None,\n",
       " None,\n",
       " None,\n",
       " None,\n",
       " None,\n",
       " None,\n",
       " None,\n",
       " None,\n",
       " None,\n",
       " None,\n",
       " None,\n",
       " None,\n",
       " None,\n",
       " None,\n",
       " None,\n",
       " None,\n",
       " None,\n",
       " None,\n",
       " None,\n",
       " None]"
      ]
     },
     "execution_count": 44,
     "metadata": {},
     "output_type": "execute_result"
    }
   ],
   "source": [
    "[print(i,ii) for i in range(5) for ii in range(5)]"
   ]
  },
  {
   "cell_type": "code",
   "execution_count": 50,
   "metadata": {},
   "outputs": [
    {
     "name": "stdout",
     "output_type": "stream",
     "text": [
      "0 left\n",
      "1 right\n",
      "2 up\n",
      "3 down\n",
      "0 left\n",
      "1 right\n",
      "2 up\n",
      "3 down\n",
      "0 left\n",
      "1 right\n",
      "2 up\n",
      "3 down\n"
     ]
    },
    {
     "data": {
      "text/plain": [
       "[None, None, None, None]"
      ]
     },
     "execution_count": 50,
     "metadata": {},
     "output_type": "execute_result"
    }
   ],
   "source": [
    "example = ['left', 'right', 'up', 'down']\n",
    "\n",
    "for i in range(len(example)):\n",
    "    print(i,example[i])\n",
    "    \n",
    "for i,j in enumerate(example):\n",
    "    print(i,j)\n",
    "    \n",
    "example_dict = {\n",
    "    'left' : '<',\n",
    "    'right' : '>',\n",
    "    'up' : '^',\n",
    "    'down' : 'v'\n",
    "}\n",
    "\n",
    "[print(i,j) for i,j in enumerate(example_dict)]"
   ]
  },
  {
   "cell_type": "code",
   "execution_count": 52,
   "metadata": {},
   "outputs": [
    {
     "name": "stdout",
     "output_type": "stream",
     "text": [
      "{0: 'left', 1: 'right', 2: 'up', 3: 'down'}\n"
     ]
    }
   ],
   "source": [
    "new_dict = dict(enumerate(example))\n",
    "print(new_dict)"
   ]
  },
  {
   "cell_type": "code",
   "execution_count": 56,
   "metadata": {},
   "outputs": [
    {
     "name": "stdout",
     "output_type": "stream",
     "text": [
      "1 5\n",
      "2 6\n",
      "3 7\n",
      "4 8\n",
      "1 5 a\n",
      "2 6 b\n",
      "3 7 c\n",
      "4 8 d\n",
      "[(1, 5, 'a'), (2, 6, 'b'), (3, 7, 'c'), (4, 8, 'd')]\n",
      "{1: 5, 2: 6, 3: 7, 4: 8}\n"
     ]
    }
   ],
   "source": [
    "x = [1,2,3,4]\n",
    "y = [5,6,7,8]\n",
    "z = ['a','b','c','d']\n",
    "\n",
    "for a,b in zip(x,y):\n",
    "    print(a,b)\n",
    "    \n",
    "#zip creates their own object\n",
    "for a,b,c in zip(x,y,z):\n",
    "    print(a,b,c)\n",
    "    \n",
    "#converting zip into list\n",
    "input_list = list(zip(x,y,z))\n",
    "\n",
    "print(input_list)\n",
    "\n",
    "#if we are working with the two list, we can convert them into the dict\n",
    "input_dict = dict(zip(x,y))\n",
    "print(input_dict)"
   ]
  },
  {
   "cell_type": "code",
   "execution_count": 57,
   "metadata": {},
   "outputs": [
    {
     "name": "stdout",
     "output_type": "stream",
     "text": [
      "hi\n",
      "there\n",
      "gowdhaman\n"
     ]
    }
   ],
   "source": [
    "def simple_gen():\n",
    "    yield 'hi'\n",
    "    yield 'there'\n",
    "    yield 'gowdhaman'\n",
    "    \n",
    "for i in simple_gen():\n",
    "    print(i)"
   ]
  },
  {
   "cell_type": "code",
   "execution_count": 58,
   "metadata": {},
   "outputs": [
    {
     "name": "stdout",
     "output_type": "stream",
     "text": [
      "Correct combo: (1, 2, 3)\n"
     ]
    }
   ],
   "source": [
    "correct_combo = (1,2,3)\n",
    "\n",
    "for c1 in range(10):\n",
    "    for c2 in range(10):\n",
    "        for(c3) in range(10):\n",
    "            if (c1,c2,c3) == correct_combo:\n",
    "                print('Correct combo: {}'.format(correct_combo))"
   ]
  },
  {
   "cell_type": "code",
   "execution_count": 59,
   "metadata": {},
   "outputs": [
    {
     "name": "stdout",
     "output_type": "stream",
     "text": [
      "Correct combo: (1, 2, 3)\n"
     ]
    }
   ],
   "source": [
    "correct_combo = (1,2,3)\n",
    "\n",
    "for c1 in range(10):\n",
    "    for c2 in range(10):\n",
    "        for(c3) in range(10):\n",
    "            if (c1,c2,c3) == correct_combo:\n",
    "                print('Correct combo: {}'.format(correct_combo))\n",
    "                break"
   ]
  },
  {
   "cell_type": "code",
   "execution_count": 61,
   "metadata": {},
   "outputs": [
    {
     "name": "stdout",
     "output_type": "stream",
     "text": [
      "Correct combo: (1, 2, 3)\n"
     ]
    }
   ],
   "source": [
    "correct_combo = (1,2,3)\n",
    "found = False\n",
    "for c1 in range(10):\n",
    "    if found:\n",
    "        break\n",
    "    for c2 in range(10):\n",
    "        if found:\n",
    "            break\n",
    "        for(c3) in range(10):\n",
    "            if (c1,c2,c3) == correct_combo:\n",
    "                found = True\n",
    "                print('Correct combo: {}'.format(correct_combo))\n",
    "                break"
   ]
  },
  {
   "cell_type": "code",
   "execution_count": 62,
   "metadata": {},
   "outputs": [],
   "source": [
    "def combo_gen():\n",
    "    for c1 in range(10):\n",
    "        for c2 in range(10):\n",
    "            for c3 in range(10):\n",
    "                yield(c1,c2,c3)"
   ]
  },
  {
   "cell_type": "code",
   "execution_count": 63,
   "metadata": {},
   "outputs": [
    {
     "name": "stdout",
     "output_type": "stream",
     "text": [
      "0 0 0\n",
      "0 0 1\n",
      "0 0 2\n",
      "0 0 3\n",
      "0 0 4\n",
      "0 0 5\n",
      "0 0 6\n",
      "0 0 7\n",
      "0 0 8\n",
      "0 0 9\n",
      "0 1 0\n",
      "0 1 1\n",
      "0 1 2\n",
      "0 1 3\n",
      "0 1 4\n",
      "0 1 5\n",
      "0 1 6\n",
      "0 1 7\n",
      "0 1 8\n",
      "0 1 9\n",
      "0 2 0\n",
      "0 2 1\n",
      "0 2 2\n",
      "0 2 3\n",
      "0 2 4\n",
      "0 2 5\n",
      "0 2 6\n",
      "0 2 7\n",
      "0 2 8\n",
      "0 2 9\n",
      "0 3 0\n",
      "0 3 1\n",
      "0 3 2\n",
      "0 3 3\n",
      "0 3 4\n",
      "0 3 5\n",
      "0 3 6\n",
      "0 3 7\n",
      "0 3 8\n",
      "0 3 9\n",
      "0 4 0\n",
      "0 4 1\n",
      "0 4 2\n",
      "0 4 3\n",
      "0 4 4\n",
      "0 4 5\n",
      "0 4 6\n",
      "0 4 7\n",
      "0 4 8\n",
      "0 4 9\n",
      "0 5 0\n",
      "0 5 1\n",
      "0 5 2\n",
      "0 5 3\n",
      "0 5 4\n",
      "0 5 5\n",
      "0 5 6\n",
      "0 5 7\n",
      "0 5 8\n",
      "0 5 9\n",
      "0 6 0\n",
      "0 6 1\n",
      "0 6 2\n",
      "0 6 3\n",
      "0 6 4\n",
      "0 6 5\n",
      "0 6 6\n",
      "0 6 7\n",
      "0 6 8\n",
      "0 6 9\n",
      "0 7 0\n",
      "0 7 1\n",
      "0 7 2\n",
      "0 7 3\n",
      "0 7 4\n",
      "0 7 5\n",
      "0 7 6\n",
      "0 7 7\n",
      "0 7 8\n",
      "0 7 9\n",
      "0 8 0\n",
      "0 8 1\n",
      "0 8 2\n",
      "0 8 3\n",
      "0 8 4\n",
      "0 8 5\n",
      "0 8 6\n",
      "0 8 7\n",
      "0 8 8\n",
      "0 8 9\n",
      "0 9 0\n",
      "0 9 1\n",
      "0 9 2\n",
      "0 9 3\n",
      "0 9 4\n",
      "0 9 5\n",
      "0 9 6\n",
      "0 9 7\n",
      "0 9 8\n",
      "0 9 9\n",
      "1 0 0\n",
      "1 0 1\n",
      "1 0 2\n",
      "1 0 3\n",
      "1 0 4\n",
      "1 0 5\n",
      "1 0 6\n",
      "1 0 7\n",
      "1 0 8\n",
      "1 0 9\n",
      "1 1 0\n",
      "1 1 1\n",
      "1 1 2\n",
      "1 1 3\n",
      "1 1 4\n",
      "1 1 5\n",
      "1 1 6\n",
      "1 1 7\n",
      "1 1 8\n",
      "1 1 9\n",
      "1 2 0\n",
      "1 2 1\n",
      "1 2 2\n",
      "1 2 3\n",
      "Correct combo: (1, 2, 3)\n"
     ]
    }
   ],
   "source": [
    "for(c1,c2,c3) in combo_gen():\n",
    "    print(c1,c2,c3)\n",
    "    if (c1,c2,c3) == correct_combo:\n",
    "        print('Correct combo: {}'.format(correct_combo))\n",
    "        break"
   ]
  },
  {
   "cell_type": "code",
   "execution_count": 75,
   "metadata": {},
   "outputs": [],
   "source": [
    "from multiprocessing import Pool\n",
    "import bs4 as bs\n",
    "import random\n",
    "import requests\n",
    "import string\n",
    "\n",
    "def random_starting_url():\n",
    "    starting = ''.join(random.SystemRandom().choice(string.ascii_lowercase) for _ in range(3))\n",
    "    url = ''.join(['http://',starting,'.com'])\n",
    "    return url\n",
    "\n",
    "# url = random_starting_url()\n",
    "# print(url)\n",
    "\n",
    "def handle_local_links(url,link):\n",
    "    #many website is having local link. for example /Contact\n",
    "    if link.startswith('/'):\n",
    "        return ''.join([url,link])\n",
    "    else:\n",
    "        return link\n",
    "    \n",
    "def get_links(url):\n",
    "    try:\n",
    "        resp = requests.get(url)\n",
    "        soup = bs.BeautifulSoup(resp.text,'lxml')\n",
    "        body = soup.body\n",
    "        links = [link.get('href') for link in body.find_all('a')]\n",
    "        links = [handle_local_links(url,link) for link in links]\n",
    "        links = [str(link.encode('ascii')) for link in links]\n",
    "        \n",
    "        return links\n",
    "    \n",
    "    except TypeError as e:\n",
    "        print(e)\n",
    "        print('Get a TypeError, probably got a None that we tried to iterate over')\n",
    "        return []\n",
    "    except IndexError as e:\n",
    "        print(e)\n",
    "        print('We probably did not find any useful links, returing empty list')\n",
    "        return []\n",
    "    except AttributeError as e:\n",
    "        print(e)\n",
    "        print('Likely got none for links, so we are throwing this')\n",
    "        return []\n",
    "    except Exception as e:\n",
    "        print(str(e))\n",
    "        return []\n",
    "\n",
    "def process_data():\n",
    "    how_many = 50\n",
    "    p = Pool(processes=how_many)\n",
    "    parse_us = [random_starting_url() for _ in range(how_many)]\n",
    "    data = p.map(get_links, [link for link in parse_us])\n",
    "    data = [url for url_list in data for url in url_list]\n",
    "    p.close()\n",
    "    \n",
    "    \n",
    "    with open('url.txt','w') as f:\n",
    "        f.write(str(data))"
   ]
  },
  {
   "cell_type": "code",
   "execution_count": 76,
   "metadata": {},
   "outputs": [
    {
     "name": "stdout",
     "output_type": "stream",
     "text": [
      "HTTPConnectionPool(host='fan.com', port=80): Max retries exceeded with url: / (Caused by NewConnectionError('<urllib3.connection.HTTPConnection object at 0x10c1826a0>: Failed to establish a new connection: [Errno 8] nodename nor servname provided, or not known',))\n",
      "HTTPConnectionPool(host='mhg.com', port=80): Max retries exceeded with url: / (Caused by NewConnectionError('<urllib3.connection.HTTPConnection object at 0x10c16b828>: Failed to establish a new connection: [Errno 8] nodename nor servname provided, or not known',))\n",
      "HTTPConnectionPool(host='jdd.com', port=80): Max retries exceeded with url: / (Caused by NewConnectionError('<urllib3.connection.HTTPConnection object at 0x10c197f60>: Failed to establish a new connection: [Errno 8] nodename nor servname provided, or not known',))\n",
      "'NoneType' object has no attribute 'find_all'\n",
      "Likely got none for links, so we are throwing this\n",
      "'NoneType' object has no attribute 'startswith'\n",
      "Likely got none for links, so we are throwing this\n",
      "HTTPConnectionPool(host='xyq.com', port=80): Max retries exceeded with url: / (Caused by NewConnectionError('<urllib3.connection.HTTPConnection object at 0x10c182f98>: Failed to establish a new connection: [Errno 8] nodename nor servname provided, or not known',))\n",
      "HTTPConnectionPool(host='xmw.com', port=80): Max retries exceeded with url: / (Caused by NewConnectionError('<urllib3.connection.HTTPConnection object at 0x10c197e80>: Failed to establish a new connection: [Errno 8] nodename nor servname provided, or not known',))\n",
      "HTTPConnectionPool(host='wcp.com', port=80): Max retries exceeded with url: / (Caused by NewConnectionError('<urllib3.connection.HTTPConnection object at 0x10c197e48>: Failed to establish a new connection: [Errno 8] nodename nor servname provided, or not known',))\n",
      "'NoneType' object has no attribute 'startswith'\n",
      "Likely got none for links, so we are throwing this\n",
      "'NoneType' object has no attribute 'startswith'\n",
      "Likely got none for links, so we are throwing this\n",
      "HTTPConnectionPool(host='pwx.com', port=80): Max retries exceeded with url: / (Caused by NewConnectionError('<urllib3.connection.HTTPConnection object at 0x10c14a668>: Failed to establish a new connection: [Errno 8] nodename nor servname provided, or not known',))\n",
      "HTTPConnectionPool(host='hbn.com', port=80): Max retries exceeded with url: / (Caused by NewConnectionError('<urllib3.connection.HTTPConnection object at 0x10c191278>: Failed to establish a new connection: [Errno 8] nodename nor servname provided, or not known',))\n",
      "HTTPConnectionPool(host='ujz.com', port=80): Max retries exceeded with url: / (Caused by NewConnectionError('<urllib3.connection.HTTPConnection object at 0x10c182438>: Failed to establish a new connection: [Errno 60] Operation timed out',))\n",
      "HTTPConnectionPool(host='yfb.com', port=80): Max retries exceeded with url: / (Caused by NewConnectionError('<urllib3.connection.HTTPConnection object at 0x10c182978>: Failed to establish a new connection: [Errno 60] Operation timed out',))\n",
      "HTTPConnectionPool(host='wws.com', port=80): Max retries exceeded with url: / (Caused by NewConnectionError('<urllib3.connection.HTTPConnection object at 0x10c197f60>: Failed to establish a new connection: [Errno 60] Operation timed out',))\n",
      "HTTPConnectionPool(host='sqc.com', port=80): Max retries exceeded with url: / (Caused by NewConnectionError('<urllib3.connection.HTTPConnection object at 0x10c1824e0>: Failed to establish a new connection: [Errno 60] Operation timed out',))\n",
      "HTTPConnectionPool(host='mqz.com', port=80): Max retries exceeded with url: / (Caused by NewConnectionError('<urllib3.connection.HTTPConnection object at 0x10c197f28>: Failed to establish a new connection: [Errno 60] Operation timed out',))\n",
      "HTTPSConnectionPool(host='vmf.com', port=443): Max retries exceeded with url: /error/badrequest?refid=481680018668 (Caused by NewConnectionError('<urllib3.connection.VerifiedHTTPSConnection object at 0x10c16b278>: Failed to establish a new connection: [Errno 60] Operation timed out',))\n"
     ]
    }
   ],
   "source": [
    "process_data()"
   ]
  },
  {
   "cell_type": "code",
   "execution_count": 82,
   "metadata": {},
   "outputs": [
    {
     "name": "stdout",
     "output_type": "stream",
     "text": [
      "<generator object fib_g at 0x10b519b48>\n",
      "0\n",
      "1\n",
      "1\n",
      "2\n",
      "3\n",
      "5\n",
      "8\n",
      "13\n",
      "21\n",
      "34\n"
     ]
    }
   ],
   "source": [
    "def fib_g(n):\n",
    "    a, b = 0, 1\n",
    "    x = 0\n",
    "    while x < n:\n",
    "        yield a\n",
    "        a, b = b, a + b\n",
    "        x+=1\n",
    "\n",
    "for i in fib_g(10):\n",
    "    print(i)"
   ]
  },
  {
   "cell_type": "code",
   "execution_count": null,
   "metadata": {},
   "outputs": [],
   "source": []
  }
 ],
 "metadata": {
  "kernelspec": {
   "display_name": "Python 3",
   "language": "python",
   "name": "python3"
  },
  "language_info": {
   "codemirror_mode": {
    "name": "ipython",
    "version": 3
   },
   "file_extension": ".py",
   "mimetype": "text/x-python",
   "name": "python",
   "nbconvert_exporter": "python",
   "pygments_lexer": "ipython3",
   "version": "3.6.2"
  }
 },
 "nbformat": 4,
 "nbformat_minor": 1
}
