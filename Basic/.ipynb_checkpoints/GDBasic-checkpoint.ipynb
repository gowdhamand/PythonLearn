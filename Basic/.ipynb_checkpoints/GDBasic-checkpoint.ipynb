{
 "cells": [
  {
   "cell_type": "markdown",
   "metadata": {},
   "source": [
    "Function Testing"
   ]
  },
  {
   "cell_type": "code",
   "execution_count": 1,
   "metadata": {},
   "outputs": [
    {
     "name": "stdout",
     "output_type": "stream",
     "text": [
      "10 + 2 = 12\n",
      "10 - 2 = 8\n",
      "10 * 2 = 100\n",
      "10 / 2 = 5.0\n"
     ]
    }
   ],
   "source": [
    "def add(x,y):\n",
    "    return x + y\n",
    "\n",
    "def sub(x,y):\n",
    "    return x - y\n",
    "\n",
    "def mul(x,y):\n",
    "    return x * x\n",
    "\n",
    "def div(x,y):\n",
    "    if y == 0:\n",
    "        print('Y cant be zero')\n",
    "        return 0\n",
    "    else:\n",
    "        return x/y\n",
    "    \n",
    "    \n",
    "x = 10\n",
    "y = 2\n",
    "\n",
    "print(x , '+' , y , '=' , add(x,y))\n",
    "print(x , '-' , y , '=' , sub(x,y))\n",
    "print(x , '*' , y , '=' , mul(x,y))\n",
    "print(x , '/' , y , '=' , div(x,y))"
   ]
  },
  {
   "cell_type": "markdown",
   "metadata": {},
   "source": [
    "Loop Learn Testing"
   ]
  },
  {
   "cell_type": "code",
   "execution_count": 2,
   "metadata": {},
   "outputs": [
    {
     "name": "stdout",
     "output_type": "stream",
     "text": [
      "0\n",
      "1\n",
      "2\n",
      "3\n",
      "4\n"
     ]
    }
   ],
   "source": [
    "def numReturn():\n",
    "    i = 0;\n",
    "    while i < 5:\n",
    "        print(i);\n",
    "        i += 1;\n",
    "        \n",
    "numReturn()"
   ]
  },
  {
   "cell_type": "code",
   "execution_count": 3,
   "metadata": {},
   "outputs": [
    {
     "name": "stdout",
     "output_type": "stream",
     "text": [
      "gowdhaman\n",
      "karthiga\n",
      "shaara\n",
      "1\n",
      "2\n",
      "3\n",
      "4\n",
      "5\n",
      "6\n",
      "7\n",
      "8\n",
      "9\n",
      "10\n"
     ]
    }
   ],
   "source": [
    "def forLoopTesting(sList):\n",
    "    for x in sList:\n",
    "        print(x)\n",
    "\n",
    "x = ['gowdhaman', 'karthiga', 'shaara']\n",
    "forLoopTesting(x)\n",
    "\n",
    "'''Testing range'''\n",
    "for z in range(1,11):\n",
    "    print(z)"
   ]
  },
  {
   "cell_type": "markdown",
   "metadata": {},
   "source": [
    "Some File Operation"
   ]
  },
  {
   "cell_type": "code",
   "execution_count": 4,
   "metadata": {},
   "outputs": [],
   "source": [
    "text = 'Gowdhaman! Please write some file. Following line is going to be new line \\n This is going to be new file'\n",
    "\n",
    "\n",
    "'''writing to a file'''\n",
    "saveFile = open('gdTesting.txt','w')\n",
    "saveFile.write(text)\n",
    "saveFile.close()\n"
   ]
  },
  {
   "cell_type": "code",
   "execution_count": 5,
   "metadata": {},
   "outputs": [],
   "source": [
    "'''appending someting to a file'''\n",
    "appendMe = '\\nI am adding more information to a file'\n",
    "\n",
    "appendFile = open('gdTesting.txt','a')\n",
    "appendFile.write(appendMe)\n",
    "appendFile.close()"
   ]
  },
  {
   "cell_type": "code",
   "execution_count": 6,
   "metadata": {},
   "outputs": [
    {
     "name": "stdout",
     "output_type": "stream",
     "text": [
      "Gowdhaman! Please write some file. Following line is going to be new line \n",
      " This is going to be new file\n",
      "I am adding more information to a file\n",
      "['Gowdhaman! Please write some file. Following line is going to be new line \\n', ' This is going to be new file\\n', 'I am adding more information to a file']\n"
     ]
    }
   ],
   "source": [
    "'''read from a file'''\n",
    "readMe = open('gdTesting.txt','r').read()\n",
    "print(readMe)\n",
    "\n",
    "'''read to list'''\n",
    "readList = open('gdTesting.txt','r').readlines()\n",
    "print(readList)"
   ]
  },
  {
   "cell_type": "markdown",
   "metadata": {},
   "source": [
    "Creating Class"
   ]
  },
  {
   "cell_type": "code",
   "execution_count": 7,
   "metadata": {},
   "outputs": [
    {
     "name": "stdout",
     "output_type": "stream",
     "text": [
      "30\n",
      "-10\n"
     ]
    }
   ],
   "source": [
    "class calculator:\n",
    "    \n",
    "    def add(x,y):\n",
    "        return x + y\n",
    "\n",
    "    def sub(x,y):\n",
    "        return x - y\n",
    "\n",
    "    def mul(x,y):\n",
    "        return x * x\n",
    "\n",
    "    def div(x,y):\n",
    "        if y == 0:\n",
    "            print('Y cant be zero')\n",
    "            return 0\n",
    "        else:\n",
    "            return x/y\n",
    "        \n",
    "print(calculator.add(10,20))\n",
    "print(calculator.sub(10,20))"
   ]
  },
  {
   "cell_type": "code",
   "execution_count": 8,
   "metadata": {},
   "outputs": [
    {
     "name": "stdout",
     "output_type": "stream",
     "text": [
      "what is your name?Gowdhaman\n",
      "Hello Gowdhaman\n"
     ]
    }
   ],
   "source": [
    "'''get user input'''\n",
    "x = input('what is your name?')\n",
    "print('Hello', x)"
   ]
  },
  {
   "cell_type": "markdown",
   "metadata": {},
   "source": [
    "Basic Statistics Stuff (Mean, Standard dev)"
   ]
  },
  {
   "cell_type": "code",
   "execution_count": 9,
   "metadata": {},
   "outputs": [
    {
     "name": "stdout",
     "output_type": "stream",
     "text": [
      "Mean : 3.5\n",
      "Median : 2.0\n",
      "StdDev : 2.9076701075853593\n",
      "varience 8.454545454545455\n"
     ]
    }
   ],
   "source": [
    "import statistics\n",
    "\n",
    "exampleList = [1,2,3,4,9,10,2, 3,2,2,2,2]\n",
    "\n",
    "print('Mean :',statistics.mean(exampleList))\n",
    "print('Median :',statistics.median(exampleList))\n",
    "print('StdDev :',statistics.stdev(exampleList))\n",
    "print('varience',statistics.variance(exampleList))"
   ]
  },
  {
   "cell_type": "markdown",
   "metadata": {},
   "source": [
    "Creating and importing modules"
   ]
  },
  {
   "cell_type": "code",
   "execution_count": 10,
   "metadata": {},
   "outputs": [
    {
     "name": "stdout",
     "output_type": "stream",
     "text": [
      "3.6.2 (default, Jul 17 2017, 16:44:45) \n",
      "[GCC 4.2.1 Compatible Apple LLVM 8.1.0 (clang-802.0.42)]\n"
     ]
    }
   ],
   "source": [
    "import sys\n",
    "\n",
    "print(sys.version)"
   ]
  },
  {
   "cell_type": "code",
   "execution_count": 11,
   "metadata": {},
   "outputs": [
    {
     "name": "stdout",
     "output_type": "stream",
     "text": [
      "Mean : 3.5\n",
      "Median : 2.0\n",
      "StdDev : 2.9076701075853593\n",
      "varience 8.454545454545455\n"
     ]
    }
   ],
   "source": [
    "import statistics as s\n",
    "\n",
    "exampleList = [1,2,3,4,9,10,2, 3,2,2,2,2]\n",
    "\n",
    "print('Mean :',s.mean(exampleList))\n",
    "print('Median :',s.median(exampleList))\n",
    "print('StdDev :',s.stdev(exampleList))\n",
    "print('varience',s.variance(exampleList))"
   ]
  },
  {
   "cell_type": "code",
   "execution_count": 12,
   "metadata": {},
   "outputs": [
    {
     "name": "stdout",
     "output_type": "stream",
     "text": [
      "0.5\n"
     ]
    }
   ],
   "source": [
    "'''if we dont wanted to reference is eachtime'''\n",
    "from statistics import variance\n",
    "\n",
    "exampleList = [1,2]\n",
    "print(variance(exampleList))"
   ]
  },
  {
   "cell_type": "code",
   "execution_count": 14,
   "metadata": {},
   "outputs": [
    {
     "name": "stdout",
     "output_type": "stream",
     "text": [
      "variance : 0.5\n",
      "mean : 1.5\n",
      "###########\n",
      "variance : 0.5\n",
      "mean : 1.5\n"
     ]
    }
   ],
   "source": [
    "'''if we want more stuff'''\n",
    "from statistics import variance as v, mean\n",
    "\n",
    "exampleList = [1,2]\n",
    "print('variance :',variance(exampleList))\n",
    "print('mean :',mean(exampleList))\n",
    "\n",
    "'''with ref'''\n",
    "print('###########')\n",
    "print('variance :',v(exampleList))\n",
    "print('mean :',m(exampleList))"
   ]
  },
  {
   "cell_type": "markdown",
   "metadata": {},
   "source": [
    "List and Tuples"
   ]
  },
  {
   "cell_type": "code",
   "execution_count": 15,
   "metadata": {},
   "outputs": [
    {
     "name": "stdout",
     "output_type": "stream",
     "text": [
      "2\n"
     ]
    },
    {
     "data": {
      "text/plain": [
       "'if you wanted to create immutable stuff...you can create using tuple...list can be mutable'"
      ]
     },
     "execution_count": 15,
     "metadata": {},
     "output_type": "execute_result"
    }
   ],
   "source": [
    "'''Tuples'''\n",
    "x = 1,2,3,4\n",
    "x = (1,2,3,4)\n",
    "\n",
    "'''List'''\n",
    "y = [1,2,3,4]\n",
    "\n",
    "print(x[1])\n",
    "\n",
    "'''Tuples can be generated faster and iterated fater'''\n",
    "\n",
    "'''example of tuple'''\n",
    "def exampleFunction():\n",
    "    return 1,2\n",
    "\n",
    "x,y = exampleFunction()\n",
    "\n",
    "'''if you wanted to create immutable stuff...you can create using tuple...list can be mutable'''"
   ]
  },
  {
   "cell_type": "code",
   "execution_count": 16,
   "metadata": {},
   "outputs": [
    {
     "name": "stdout",
     "output_type": "stream",
     "text": [
      "[1, 2, 3, 3, 4, 1, 2, 3, 3, 4, 5, 5, 5, 7, 2]\n",
      "index of 5 : 1\n",
      "index of last element : 2\n",
      "index of last 2nd element : 7\n",
      "Eelement from 1:5 : [2, 3, 3, 4]\n",
      "Eelement from 1: : [1, 2, 3, 3, 4, 5, 5, 5, 7, 2]\n",
      "Index of which provides you the position : 0\n",
      "Count number of 2 in list : 3\n",
      "Sorting the list : [1, 1, 2, 2, 2, 3, 3, 3, 3, 4, 4, 5, 5, 5, 7]\n"
     ]
    }
   ],
   "source": [
    "x = [1,2,3,3,4,1,2,3,3,4,5,5,5,7]\n",
    "\n",
    "'''add something'''\n",
    "x.append(2)\n",
    "\n",
    "'''insert--> first param is position and 2nd one is the value'''\n",
    "x.insert(2,99)\n",
    "\n",
    "'''remove--> give element position'''\n",
    "'''x.remove(0) is not working'''\n",
    "x.remove(x[2])\n",
    "\n",
    "\n",
    "print(x)\n",
    "print('index of 5 :',x[5])\n",
    "print('index of last element :', x[-1])\n",
    "print('index of last 2nd element :', x[-2])\n",
    "print('Eelement from 1:5 :', x[1:5])\n",
    "print('Eelement from 1: :', x[5:])\n",
    "print('Index of which provides you the position :', x.index(1))\n",
    "print('Count number of 2 in list :', x.count(2))\n",
    "x.sort()\n",
    "print('Sorting the list :', x)"
   ]
  },
  {
   "cell_type": "code",
   "execution_count": 17,
   "metadata": {},
   "outputs": [
    {
     "name": "stdout",
     "output_type": "stream",
     "text": [
      "['Gowdhaman', 'Karthiga', 'Shaara']\n"
     ]
    }
   ],
   "source": [
    "y = ['Gowdhaman', 'Shaara', 'Karthiga']\n",
    "\n",
    "y.sort()\n",
    "print(y)"
   ]
  },
  {
   "cell_type": "code",
   "execution_count": 1,
   "metadata": {},
   "outputs": [
    {
     "name": "stdout",
     "output_type": "stream",
     "text": [
      "gdTesting\n"
     ]
    }
   ],
   "source": [
    "print('gdTesting')"
   ]
  },
  {
   "cell_type": "code",
   "execution_count": 3,
   "metadata": {},
   "outputs": [
    {
     "name": "stdout",
     "output_type": "stream",
     "text": [
      "5\n"
     ]
    }
   ],
   "source": [
    "'''Mutli Dimensional list'''\n",
    "x = [\n",
    "        [5,1],[6,2],[3,3],[3,4],[2,5],[4,6],[5,7]\n",
    "    ]\n",
    "print(x[0][0])"
   ]
  },
  {
   "cell_type": "markdown",
   "metadata": {},
   "source": [
    "Reading CSV file"
   ]
  },
  {
   "cell_type": "code",
   "execution_count": 6,
   "metadata": {},
   "outputs": [
    {
     "name": "stdout",
     "output_type": "stream",
     "text": [
      "<_csv.reader object at 0x10c7d3198>\n",
      "['1/2/2012', '5', 'red']\n",
      "1/2/2012\n",
      "1/2/2012 5\n",
      "['1/3/2012', '6', 'blue']\n",
      "1/3/2012\n",
      "1/3/2012 6\n",
      "['1/4/2012', '7', 'green']\n",
      "1/4/2012\n",
      "1/4/2012 7\n"
     ]
    }
   ],
   "source": [
    "import csv\n",
    "\n",
    "with open('colors.csv') as csvFile:\n",
    "    readCSV = csv.reader(csvFile,delimiter=',')\n",
    "    print(readCSV)\n",
    "    \n",
    "    for row in readCSV:\n",
    "        print(row)\n",
    "        print(row[0])\n",
    "        print(row[0],row[1])"
   ]
  },
  {
   "cell_type": "code",
   "execution_count": 13,
   "metadata": {},
   "outputs": [
    {
     "name": "stdout",
     "output_type": "stream",
     "text": [
      "<_csv.reader object at 0x10c891e48>\n",
      "['1/2/2012', '1/3/2012', '1/4/2012']\n",
      "['red', 'blue', 'green']\n",
      "what color you wanted to know the date of?BluE\n",
      "1/3/2012\n"
     ]
    }
   ],
   "source": [
    "import csv\n",
    "\n",
    "with open('colors.csv') as csvFile:\n",
    "    readCSV = csv.reader(csvFile,delimiter=',')\n",
    "    print(readCSV)\n",
    "    \n",
    "    dates = []\n",
    "    colors = []\n",
    "    \n",
    "    for row in readCSV:\n",
    "        color = row[2]\n",
    "        date = row[0]\n",
    "        \n",
    "        dates.append(date)\n",
    "        colors.append(color)\n",
    "        \n",
    "    print(dates)\n",
    "    print(colors)\n",
    "    \n",
    "    \n",
    "    whatColor = input('what color you wanted to know the date of?')    \n",
    "    colIdx = colors.index(whatColor.lower())\n",
    "    \n",
    "    theDate = dates[colIdx]\n",
    "    \n",
    "    print(theDate)\n",
    "    "
   ]
  },
  {
   "cell_type": "markdown",
   "metadata": {},
   "source": [
    "Exception Handling"
   ]
  },
  {
   "cell_type": "code",
   "execution_count": 17,
   "metadata": {},
   "outputs": [
    {
     "name": "stdout",
     "output_type": "stream",
     "text": [
      "<_csv.reader object at 0x10c891e48>\n",
      "['1/2/2012', '1/3/2012', '1/4/2012']\n",
      "['red', 'blue', 'green']\n",
      "what color you wanted to know the date of?adafda\n",
      "given color not found, or it is not the color\n",
      "continuing.......\n"
     ]
    }
   ],
   "source": [
    "import csv\n",
    "\n",
    "with open('colors.csv') as csvFile:\n",
    "    readCSV = csv.reader(csvFile,delimiter=',')\n",
    "    print(readCSV)\n",
    "    \n",
    "    dates = []\n",
    "    colors = []\n",
    "    \n",
    "    for row in readCSV:\n",
    "        color = row[2]\n",
    "        date = row[0]\n",
    "        \n",
    "        dates.append(date)\n",
    "        colors.append(color)\n",
    "        \n",
    "    print(dates)\n",
    "    print(colors)\n",
    "    \n",
    "    try:\n",
    "        whatColor = input('what color you wanted to know the date of?')\n",
    "        \n",
    "        if whatColor in colors:\n",
    "            colIdx = colors.index(whatColor.lower())\n",
    "            theDate = dates[colIdx]\n",
    "            print(theDate)\n",
    "        else:\n",
    "            print('given color not found, or it is not the color')\n",
    "        \n",
    "    except Exception as e:\n",
    "        print(e)\n",
    "        \n",
    "    print('continuing.......')"
   ]
  },
  {
   "cell_type": "code",
   "execution_count": 18,
   "metadata": {},
   "outputs": [
    {
     "name": "stdout",
     "output_type": "stream",
     "text": [
      "\n",
      "\n",
      "so this is the simple \n",
      "multi-line\n",
      "\n",
      "\n"
     ]
    }
   ],
   "source": [
    "print('''\n",
    "\n",
    "so this is the simple \n",
    "multi-line\n",
    "\n",
    "''')"
   ]
  },
  {
   "cell_type": "markdown",
   "metadata": {},
   "source": [
    "Dictionaries"
   ]
  },
  {
   "cell_type": "code",
   "execution_count": 3,
   "metadata": {},
   "outputs": [
    {
     "name": "stdout",
     "output_type": "stream",
     "text": [
      "{'Gowdhaman': 33, 'Karthiga': 28, 'Shaara': 5}\n",
      "33\n",
      "{'Gowdhaman': 33, 'Karthiga': 28, 'Shaara': 5, 'Padma': 60}\n",
      "{'Gowdhaman': 33, 'Karthiga': 28, 'Shaara': 6, 'Padma': 60}\n",
      "{'Gowdhaman': 33, 'Karthiga': 28, 'Shaara': 6}\n"
     ]
    }
   ],
   "source": [
    "exDict = {'Gowdhaman': 33, 'Karthiga' : 28, 'Shaara' : 5}\n",
    "\n",
    "print(exDict)\n",
    "print(exDict['Gowdhaman'])\n",
    "\n",
    "exDict['Padma'] = 60\n",
    "\n",
    "print(exDict)\n",
    "\n",
    "exDict['Shaara'] = 6\n",
    "print(exDict)\n",
    "\n",
    "'''to delete from dictionaries'''\n",
    "del exDict['Padma']\n",
    "print(exDict)"
   ]
  },
  {
   "cell_type": "code",
   "execution_count": 4,
   "metadata": {},
   "outputs": [
    {
     "name": "stdout",
     "output_type": "stream",
     "text": [
      "father\n"
     ]
    }
   ],
   "source": [
    "exDict = {'Gowdhaman': [33,'father'], 'Karthiga' : [28,'mother'], 'Shaara' : [5,'daughter']}\n",
    "print(exDict['Gowdhaman'][1])"
   ]
  },
  {
   "cell_type": "markdown",
   "metadata": {},
   "source": [
    "Bulid In functions"
   ]
  },
  {
   "cell_type": "code",
   "execution_count": null,
   "metadata": {},
   "outputs": [],
   "source": [
    "exNum1 = -5\n",
    "exNum2 = 5\n",
    "\n",
    "'''absolute'''\n",
    "print(abs(exNum1))\n",
    "\n",
    "if abs(exNum1) == exNum2:\n",
    "    print('same values')"
   ]
  },
  {
   "cell_type": "code",
   "execution_count": 5,
   "metadata": {},
   "outputs": [
    {
     "name": "stdout",
     "output_type": "stream",
     "text": [
      "[1, 3, 5, 3, 5]\n",
      "5\n",
      "1\n",
      "1\n"
     ]
    }
   ],
   "source": [
    "exList = [1,3,5,3,5]\n",
    "\n",
    "print(exList)\n",
    "print(max(exList))\n",
    "print(min(exList))\n",
    "\n",
    "x = 1.123\n",
    "print(round(x))"
   ]
  },
  {
   "cell_type": "code",
   "execution_count": null,
   "metadata": {},
   "outputs": [],
   "source": [
    "print('gdTesting')"
   ]
  },
  {
   "cell_type": "code",
   "execution_count": 7,
   "metadata": {},
   "outputs": [
    {
     "name": "stdout",
     "output_type": "stream",
     "text": [
      "3\n",
      "4\n"
     ]
    }
   ],
   "source": [
    "import math\n",
    "\n",
    "print(math.floor(3.1234))\n",
    "print(math.ceil(3.1234))"
   ]
  },
  {
   "cell_type": "code",
   "execution_count": 10,
   "metadata": {},
   "outputs": [
    {
     "name": "stdout",
     "output_type": "stream",
     "text": [
      "123\n",
      "123.0\n"
     ]
    }
   ],
   "source": [
    "intMe = '123'\n",
    "intMe\n",
    "print(int(intMe))\n",
    "print(float(intMe))"
   ]
  },
  {
   "cell_type": "markdown",
   "metadata": {},
   "source": [
    "Modules"
   ]
  },
  {
   "cell_type": "code",
   "execution_count": 13,
   "metadata": {},
   "outputs": [
    {
     "name": "stdout",
     "output_type": "stream",
     "text": [
      "/Users/gowdhaman/GDIPythonNoteBook/PythonLearn/Basic\n"
     ]
    }
   ],
   "source": [
    "import os\n",
    "\n",
    "'''to get current working directory'''\n",
    "curDir = os.getcwd()\n",
    "print(curDir)\n",
    "\n",
    "os.mkdir('newDir')\n",
    "\n",
    "import time\n",
    "\n",
    "time.sleep(2)\n",
    "\n",
    "os.rename('newDir','newDir2')\n",
    "\n",
    "time.sleep(2)\n",
    "os.rmdir('newDir2')"
   ]
  },
  {
   "cell_type": "code",
   "execution_count": 42,
   "metadata": {},
   "outputs": [
    {
     "name": "stdout",
     "output_type": "stream",
     "text": [
      "check the prime number till number n? 100\n",
      "[1, 2, 3, 5, 7, 11, 13, 17, 19, 23, 29, 31, 37, 41, 43, 47, 53, 59, 61, 67, 71, 73, 79, 83, 89, 97]\n"
     ]
    }
   ],
   "source": [
    "x = input('check the prime number till number n? ')\n",
    "\n",
    "try:\n",
    "    primeNumbers = []\n",
    "    x = int(x)\n",
    "    for i in range(1, x):\n",
    "        num = int(i)\n",
    "        if num > 2:\n",
    "            for i in range(2,num):\n",
    "                if(num % i) == 0:\n",
    "                    '''print(num, 'is not the primiary number')'''\n",
    "                    '''print(i,' times ' , num//i,' is ', num)'''\n",
    "                    break\n",
    "            else:\n",
    "                primeNumbers.append(num)\n",
    "                '''print(num, 'is prime number')'''\n",
    "        else:\n",
    "            primeNumbers.append(num)\n",
    "        \n",
    "    \n",
    "    print(primeNumbers)\n",
    "except Exception as e:\n",
    "    print(e)"
   ]
  },
  {
   "cell_type": "code",
   "execution_count": 39,
   "metadata": {},
   "outputs": [
    {
     "name": "stdout",
     "output_type": "stream",
     "text": [
      "9  is not the prime number\n",
      "3  times  3  is  9\n"
     ]
    }
   ],
   "source": [
    "x = 9\n",
    "if x > 2:\n",
    "    for i in range(2,x):\n",
    "        if(x % i) == 0:\n",
    "            print(x, ' is not the prime number')\n",
    "            print(i, ' times ', x//i, ' is ', x)\n",
    "            break\n",
    "    else:\n",
    "        print(x, ' is prime number')\n",
    "        "
   ]
  },
  {
   "cell_type": "code",
   "execution_count": 19,
   "metadata": {},
   "outputs": [
    {
     "name": "stderr",
     "output_type": "stream",
     "text": [
      "this is the stderr text\n"
     ]
    },
    {
     "name": "stdout",
     "output_type": "stream",
     "text": [
      "this is the stdout text\n",
      "['/usr/local/lib/python3.6/site-packages/ipykernel_launcher.py', '-f', '/Users/gowdhaman/Library/Jupyter/runtime/kernel-3595e2d9-ef9e-444d-bd7d-0e0d54f73e67.json']\n"
     ]
    }
   ],
   "source": [
    "import sys\n",
    "\n",
    "sys.stderr.write('this is the stderr text\\n')\n",
    "sys.stderr.flush()\n",
    "sys.stdout.write('this is the stdout text\\n')\n",
    "\n",
    "print(sys.argv)"
   ]
  },
  {
   "cell_type": "code",
   "execution_count": 21,
   "metadata": {},
   "outputs": [
    {
     "ename": "SyntaxError",
     "evalue": "EOL while scanning string literal (<ipython-input-21-9cb588c3435d>, line 4)",
     "output_type": "error",
     "traceback": [
      "\u001b[0;36m  File \u001b[0;32m\"<ipython-input-21-9cb588c3435d>\"\u001b[0;36m, line \u001b[0;32m4\u001b[0m\n\u001b[0;31m    'print(x.read())\u001b[0m\n\u001b[0m                    ^\u001b[0m\n\u001b[0;31mSyntaxError\u001b[0m\u001b[0;31m:\u001b[0m EOL while scanning string literal\n"
     ]
    }
   ],
   "source": [
    "import urllib.request\n",
    "\n",
    "x = urllib.request.urlopen('https://www.google.com')\n",
    "'''print(x.read())'''\n",
    "'''this provided the html souce code for the google.com'''"
   ]
  },
  {
   "cell_type": "code",
   "execution_count": 25,
   "metadata": {},
   "outputs": [
    {
     "name": "stdout",
     "output_type": "stream",
     "text": [
      "b'<html>\\n\\t<head>\\n\\n\\t\\t<!--\\n\\t\\tpalette:\\n\\t\\tdark blue: #003F72\\n\\t\\tyellow: #FFD166\\n\\t\\tsalmon: #EF476F\\n\\t\\toffwhite: #e7d7d7\\n\\t\\tLight Blue: #118AB2\\n\\t\\tLight green: #7DDF64\\n\\t\\t-->\\n\\n\\t\\t<meta name=\"viewport\" content = \"width=device-width, initial-scale=1.0\">\\n\\t\\t<title>Python Programming Tutorials</title>\\n\\n\\t\\t<meta name=\"description\" content=\"Python Programming tutorials from beginner to advanced on a massive variety of topics. All video and text tutorials are free.\">\\n\\n\\t\\t<link rel=\"shortcut icon\" href=\"/static/favicon.ico\">\\n\\t\\t<link rel=\"stylesheet\" href=\"/static/css/materialize.min.css\">\\n        <link href=\"https://fonts.googleapis.com/icon?family=Material+Icons\" rel=\"stylesheet\">\\n        <meta name=\"google-site-verification\" content=\"3fLok05gk5gGtWd_VSXbSSSH27F2kr1QqcxYz9vYq2k\" />\\n        <link rel=\"stylesheet\" type=\"text/css\" href=\"/static/css/bootstrap.css\">\\n\\n\\n\\t\\t  <!-- Compiled and minified CSS -->\\n\\n\\t\\t<!-- Compiled and minified JavaScript -->\\n\\n\\t\\t<script src=\"https://code.jquery.com/jquery-2.1.4.min.js\"></script>\\n\\t\\t<script src=\"https://cdnjs.cloudflare.com/ajax/libs/materialize/0.97.3/js/materialize.min.js\"></script>\\n\\n\\n\\n        <style>\\n\\t\\t@media (min-width:992px) {\\n\\t\\t#aside {\\n\\t\\t\\twidth:250px;\\n\\t\\t}\\n\\t\\tpre { tab-size: 4;}\\n\\t\\t.btn {background-color:#FFD166;\\n\\t\\t\\t  color:#000;\\n\\t\\t      height:auto;\\n\\t\\t\\t  font-color:#000;\\n\\t\\t\\t  }\\n\\t\\t.btn:hover {background-color:#FFD166;\\n\\t\\t\\t\\t\\t}\\n\\n\\n\\t\\t</style>\\n\\n\\t\\t<!-- Google Tracking -->\\n\\t\\t<script>\\n\\t\\t\\t  (function(i,s,o,g,r,a,m){i[\\'GoogleAnalyticsObject\\']=r;i[r]=i[r]||function(){\\n\\t\\t\\t  (i[r].q=i[r].q||[]).push(arguments)},i[r].l=1*new Date();a=s.createElement(o),\\n\\t\\t\\t  m=s.getElementsByTagName(o)[0];a.async=1;a.src=g;m.parentNode.insertBefore(a,m)\\n\\t\\t\\t  })(window,document,\\'script\\',\\'//www.google-analytics.com/analytics.js\\',\\'ga\\');\\n\\n\\t\\t\\t  ga(\\'create\\', \\'UA-51891827-1\\', \\'auto\\');\\n\\t\\t\\t  ga(\\'send\\', \\'pageview\\');\\n\\n\\t\\t</script>\\n\\n            \\n            \\n\\n\\n\\n\\n\\t</head>\\n\\n\\t<body>\\n\\n\\t\\t<div class=\"navbar-fixed\">\\n\\t\\t\\t<nav style=\"background-color:#003F72\">\\n\\t\\t\\t\\t<div class=\"nav-wrapper container\">\\n\\t\\t\\t\\t\\t<a href=\"/\" class=\"brand-logo\"><img class=\"img-responsive\" style=\"width:50px; height;50px; margin-top:5px\" src=\"/static/images/mainlogowhitethick.jpg\"></a>\\n\\t\\t\\t\\t\\t<a href=\"#\" data-activates=\"navsidebar\" class=\"button-collapse\"><i class=\"mdi-navigation-menu\"></i></a>\\n\\t\\t\\t\\t\\t<ul class=\"right hide-on-med-and-down\">\\n\\t\\t\\t\\t\\t<li><i class=\"material-icons\">search</i></li>\\n\\t\\t\\t\\t\\t<li>\\n\\t\\t\\t\\t\\t\\t<form method=\\'get\\' id=\\'searchform\\' style=\\'height:50px; padding-top:10px\\' action=\\'/search/?l=hi\\'>\\n\\t\\t\\t\\t\\t\\t\\t<input name=\\'q\\' id=\"search\" type=\"search\" placeholder=\"search\"  style=\\'font-size:16px\\'>\\n\\t\\t\\t\\t\\t\\t</form>\\n\\t\\t\\t\\t\\t</li>\\n\\t\\t\\t\\t\\t\\t\\n\\t\\t\\t<li><a href=\"/\">Home</a></li>\\n\\t\\t\\t<li><a class=\"tooltipped\" data-position=\"bottom\" data-delay=\"50\" data-tooltip=\"sudo apt-get upgrade\" href=\"/+=1/\">+=1</a></li>\\n\\t\\t\\t<!--<li><a href=\"/store/python-hoodie/\">Store</a></li>-->\\n\\t\\t\\t<li><a href=\"/support/\">Support the Content</a></li>\\n\\t\\t\\t\\n\\t\\t\\t<li><a href=\"https://goo.gl/7zgAVQ\" target=\\'blank\\'><!--<i class=\"material-icons\">question_answer</i>-->Community</a></li>\\n\\t\\t\\t\\t<li><a href=\"/login/\">Log in</a></li>\\n                <li><a href=\"/register/\">Sign up</a></li>\\n\\t\\t\\t\\n\\n\\t\\t\\t\\t\\t</ul>\\n\\t\\t\\t\\t\\t<ul class=\"side-nav\" id=\"navsidebar\">\\n\\t\\t\\t\\t\\t<li>\\n\\t\\t\\t\\t\\t\\t<form method=\\'get\\' id=\\'searchform\\' style=\\'height:50px; padding-top:10px\\' action=\\'/search/?l=hi\\'>\\n\\t\\t\\t\\t\\t\\t\\t<input name=\\'q\\' id=\"search\" type=\"search\" placeholder=\"search\"  style=\\'font-size:16px\\'>\\n\\t\\t\\t\\t\\t\\t</form>\\n\\t\\t\\t\\t\\t</li>\\n\\t\\t\\t\\t\\t\\t\\n\\t\\t\\t<li><a href=\"/\">Home</a></li>\\n\\t\\t\\t<li><a class=\"tooltipped\" data-position=\"bottom\" data-delay=\"50\" data-tooltip=\"sudo apt-get upgrade\" href=\"/+=1/\">+=1</a></li>\\n\\t\\t\\t<!--<li><a href=\"/store/python-hoodie/\">Store</a></li>-->\\n\\t\\t\\t<li><a href=\"/support/\">Support the Content</a></li>\\n\\t\\t\\t\\n\\t\\t\\t<li><a href=\"https://goo.gl/7zgAVQ\" target=\\'blank\\'><!--<i class=\"material-icons\">question_answer</i>-->Community</a></li>\\n\\t\\t\\t\\t<li><a href=\"/login/\">Log in</a></li>\\n                <li><a href=\"/register/\">Sign up</a></li>\\n\\t\\t\\t\\n\\n\\t\\t\\t\\t\\t</ul>\\n\\t\\t\\t\\t</div>\\n\\t\\t\\t</nav>\\n\\t\\t</div>\\n\\n\\n\\n\\t\\t<!-- main content -->\\n\\t\\t<div class=\"container\" style=\"max-width:1500px; min-height:100%\">\\n\\t\\t\\t<!--Notification:-->\\n            <!--<p style=\"font-size:80%\">TensorFlow.js Livestream:  <a href=\"https://www.youtube.com/watch?v=NjSlj95lliM\" target=\"blank\"><strong>Deep Learning in the browser</strong></a></p>-->\\n            <!--End Notification:-->\\n\\n\\t\\t\\t\\t\\t\\n\\t\\t\\t\\t\\t\\n\\t\\t\\t\\t\\t  \\n\\t\\t\\t\\t\\t\\n\\n\\t\\t\\t\\t\\t\\n\\t<div class=\"row\">\\n\\t<!-- size 4 on a large screen, 12 on a small, 6 on a med -->\\n\\t\\t<div class=\"col l4 s12 m6\">\\n\\t\\t\\t<a href=\"/data-analysis-tutorials/\" class=\"waves-effect waves-light\" style=\"color:#000\">\\n\\t\\t\\t<div class=\"card-panel hoverable\" style=\"height:360px; background-color:#FFFFFF;\">\\n\\t\\t\\t\\t<div class=\"card-image\">\\n\\t\\t\\t\\t  <img class=\"responsive-img\" src=\"/static/images/categories/3D-Matplotlib.png\" style=\"width:250px\">\\n\\t\\t\\t\\t  <br><span class=\"card-title\"><strong>Data Analysis</strong></span>\\n\\t\\t\\t\\t</div>\\n\\t\\t\\t\\t<div class=\"card-content\">\\n\\t\\t\\t\\t  <p>Learn how to use Python with Pandas, Matplotlib, and other modules to gather insights from and about your data.</p>\\n\\t\\t\\t\\t</div>\\n\\t\\t\\t\\t<div class=\"card-action right-align\">\\n\\t\\t\\t\\t  <a href=\"/data-analysis-tutorials/\" class=\"waves-effect waves-light btn\" style=\"color:#000000; background-color:#FFD166\">View</a>\\n\\t\\t\\t\\t</div>\\n            </div>\\n            </a>\\n\\t\\t</div>\\n\\t\\t\\n\\t\\t<div class=\"col l4 s12 m6\">\\n\\t\\t\\t<a href=\"/robotics-tutorials/\" class=\"waves-effect waves-light\" style=\"color:#000\">\\n\\t\\t\\t<div class=\"card-panel hoverable\" style=\"height:360px; background-color:#FFFFFF;\">\\n\\t\\t\\t\\t<div class=\"card-image\">\\n\\t\\t\\t\\t  <img class=\"responsive-img\" src=\"/static/images/categories/robotics_with_raspberry_pi_gopigo.jpg\" style=\"width:250px\">\\n\\t\\t\\t\\t  <br><span class=\"card-title\"><strong>Robotics</strong></span>\\n\\t\\t\\t\\t</div>\\n\\t\\t\\t\\t<div class=\"card-content\">\\n\\t\\t\\t\\t  <p>Control hardware with Python programming and the Raspberry Pi.</p>\\n\\t\\t\\t\\t</div>\\n\\t\\t\\t\\t<div class=\"card-action right-align\">\\n\\t\\t\\t\\t  <a href=\"/robotics-tutorials/\" class=\"waves-effect waves-light btn\" style=\"color:#000000; background-color:#FFD166\">View</a>\\n\\t\\t\\t\\t</div>\\n            </div>\\n            </a>\\n\\t\\t</div>\\n\\t\\t\\n\\t\\t<div class=\"col l4 s12 m6\">\\n\\t\\t\\t<a href=\"/web-development-tutorials/\" class=\"waves-effect waves-light\" style=\"color:#000\">\\n\\t\\t\\t<div class=\"card-panel hoverable\" style=\"height:360px; background-color:#FFFFFF;\">\\n\\t\\t\\t\\t<div class=\"card-image\">\\n\\t\\t\\t\\t  <img class=\"responsive-img\" src=\"/static/images/categories/webdev.png\" style=\"width:250px\">\\n\\t\\t\\t\\t  <br><span class=\"card-title\"><strong>Web Development</strong></span>\\n\\t\\t\\t\\t</div>\\n\\t\\t\\t\\t<div class=\"card-content\">\\n\\t\\t\\t\\t  <p>How to develop websites with either the Flask or Django frameworks for Python.</p>\\n\\t\\t\\t\\t</div>\\n\\t\\t\\t\\t<div class=\"card-action right-align\">\\n\\t\\t\\t\\t  <a href=\"/web-development-tutorials/\" class=\"waves-effect waves-light btn\" style=\"color:#000000; background-color:#FFD166\">View</a>\\n\\t\\t\\t\\t</div>\\n            </div>\\n            </a>\\n\\t\\t</div>\\n\\n\\t\\n\\n\\t\\t<div class=\"col l4 s12 m6\">\\n\\t\\t\\t<a href=\"/game-development-tutorials/\" class=\"waves-effect waves-light\" style=\"color:#000\">\\n\\t\\t\\t<div class=\"card-panel hoverable\" style=\"height:360px; background-color:#FFFFFF;\">\\n\\t\\t\\t\\t<div class=\"card-image\">\\n\\t\\t\\t\\t  <img class=\"responsive-img\" src=\"/static/images/categories/pygame-tutorials.png\" style=\"width:250px\">\\n\\t\\t\\t\\t  <br><span class=\"card-title\"><strong>Game Development</strong></span>\\n\\t\\t\\t\\t</div>\\n\\t\\t\\t\\t<div class=\"card-content\">\\n\\t\\t\\t\\t  <p>Create your own games with Python\\'s PyGame library, or check out the multi-platform Kivy.</p>\\n\\t\\t\\t\\t</div>\\n\\t\\t\\t\\t<div class=\"card-action right-align\">\\n\\t\\t\\t\\t  <a href=\"/game-development-tutorials/\" class=\"waves-effect waves-light btn\" style=\"color:#000000; background-color:#FFD166\">View</a>\\n\\t\\t\\t\\t</div>\\n            </div>\\n            </a>\\n\\t\\t</div>\\n\\n\\n\\n\\t\\t<div class=\"col l4 s12 m6\">\\n\\t\\t\\t<a href=\"/python-fundamental-tutorials/\" class=\"waves-effect waves-light\" style=\"color:#000\">\\n\\t\\t\\t<div class=\"card-panel hoverable\" style=\"height:360px; background-color:#FFFFFF;\">\\n\\t\\t\\t\\t<div class=\"card-image\">\\n\\t\\t\\t\\t  <img class=\"responsive-img\" src=\"/static/images/categories/python-3-basics.png\" style=\"width:250px\">\\n\\t\\t\\t\\t  <br><span class=\"card-title\"><strong>Python Fundamentals</strong></span>\\n\\t\\t\\t\\t</div>\\n\\t\\t\\t\\t<div class=\"card-content\">\\n\\t\\t\\t\\t  <p>Learn the basic and intermediate Python fundamentals.</p>\\n\\t\\t\\t\\t</div>\\n\\t\\t\\t\\t<div class=\"card-action right-align\">\\n\\t\\t\\t\\t  <a href=\"/python-fundamental-tutorials/\" class=\"waves-effect waves-light btn\" style=\"color:#000000; background-color:#FFD166\">View</a>\\n\\t\\t\\t\\t</div>\\n            </div>\\n            </a>\\n\\t\\t</div>\\n\\n\\n\\n\\t\\t\\n\\t\\t<!--<div class=\"col l4 s12 m6\">\\n\\t\\t\\t\\n\\t\\t\\t<div class=\"card-panel hoverable\" style=\"height:360px; background-color:#FFFFFF;\">\\n\\t\\t\\t<a href=\"/introduction-to-python-programming/\" class=\"waves-effect waves-light\" style=\"color:#000\">\\n\\t\\t\\t\\t<div class=\"card-image\">\\n\\t\\t\\t\\t  <img class=\"responsive-img\" src=\"/static/images/categories/python-3-basics.png\" style=\"width:250px\">\\n\\t\\t\\t\\t  <br><span class=\"card-title\"><strong>Basics</strong></span>\\n\\t\\t\\t\\t</div>\\n\\t\\t\\t\\t<div class=\"card-content\">\\n\\t\\t\\t\\t  <p>Just getting started?</p> \\n\\t\\t\\t\\t  <p>Not a problem, learn the basics of programming with Python 3 here!</p>\\n\\t\\t\\t\\t</div>\\n\\t\\t\\t\\t<div class=\"card-action right-align\">\\n\\t\\t\\t\\t  <a href=\"/introduction-to-python-programming/\" class=\"waves-effect waves-light btn\" style=\"color:#000000; background-color:#FFD166\">Start</a>\\n\\t\\t\\t\\t</div>\\n\\t\\t\\t\\t</a>\\n            </div>\\n\\n\\n\\t\\t</div>-->\\n\\t\\t\\n\\t\\t<div class=\"col l4 s12 m6\">\\n\\t\\t\\t<a href=\"/gui-development-tutorials/\" class=\"waves-effect waves-light\" style=\"color:#000\">\\n\\t\\t\\t<div class=\"card-panel hoverable\" style=\"height:360px; background-color:#FFFFFF;\">\\n\\t\\t\\t\\t<div class=\"card-image\">\\n\\t\\t\\t\\t  <img class=\"responsive-img\" src=\"/static/images/categories/tkinter-gui-tutorial-with-python-3.png\" style=\"width:250px\">\\n\\t\\t\\t\\t  <br><span class=\"card-title\"><strong>GUIs</strong></span>\\n\\t\\t\\t\\t</div>\\n\\t\\t\\t\\t<div class=\"card-content\">\\n\\t\\t\\t\\t  <p>Create software with a user interface using Tkinter, PyQt, or Kivy.</p>\\n\\t\\t\\t\\t</div>\\n\\t\\t\\t\\t<div class=\"card-action right-align\">\\n\\t\\t\\t\\t  <a href=\"/gui-development-tutorials/\" class=\"waves-effect waves-light btn\" style=\"color:#000000; background-color:#FFD166\">View</a>\\n\\t\\t\\t\\t</div>\\n            </div>\\n            </a>\\n\\t\\t</div>\\n\\t</div>\\n\\n\\t  <div class=\"card\">\\n\\t    <!--<div class=\"card-content\">\\n\\t      <p>Curious about more than just Python? While not covered in nearly as much depth, here are some tutorials in other languages:</p>\\n\\t    </div>-->\\n\\n\\t    <div class=\"card-tabs\">\\n\\t      <ul class=\"tabs tabs-fixed-width\">\\n\\t        <li class=\"tab\"><a class=\"active\" href=\"#golang\">Golang</a></li>\\n\\t        <!--<li class=\"tab\"><a href=\"#cpp\">C++</a></li>\\n\\t        <li class=\"tab\"><a href=\"#julia\">Julia</a></li>-->\\n\\t      </ul>\\n\\t    </div>\\n\\n\\t    <div class=\"card-content grey lighten-4\">\\n\\t      <div id=\"golang\">\\n\\t        <p>Go is a programming language aimed at being simple, easy to work with, and capable of high performance.</p><br>\\n\\t        <a href=\"/go/\">\\n\\t          <img class=\"responsive-img\" src=\"/static/images/categories/golang-tutorials.png\" style=\"width:150px;\"> \\n\\t        </a>\\n\\n\\t        <div class=\"card-action left-align\">\\n\\t          <a href=\"/go/\" class=\"waves-effect waves-light btn\" style=\"color:#000000; background-color:#FFD166\">View Tutorial</a>\\n\\t        </div>\\n\\t      </div>\\n\\n\\t      <!--<div id=\"gpp\">C++ content</div>\\n\\t      <div id=\"julia\">Julia content</div>-->\\n\\n\\t    </div>\\n\\t  </div>\\n\\t\\n\\n\\n\\t\\t\\t</div>\\n\\t\\t</div>\\n\\n\\t\\t<!--login modal-->\\n\\t\\t\\n<div id=\"modalLogin\" class=\"modal\">\\n\\t\\t\\t<div class=\"modal-content\">\\n\\t\\t\\t\\t<h2 class=\"center-align\">Login</h2>\\n\\t\\t\\t\\t<div class=\"center-align\">\\n\\t\\t\\t\\t\\t<div class=\"divider\"></div>\\n\\t\\t\\t\\t\\t\\n\\t\\t\\t\\t\\t<form class=\"col s12\">\\n\\t\\t\\t\\t\\t\\t<div class=\"row center-align\">\\n\\t\\t\\t\\t\\t\\t\\t<div class=\"input-field col m10\">\\n\\t\\t\\t\\t\\t\\t\\t\\t<input id=\"icon_prefix\" type=\"text\" class=\"validate\">\\n\\t\\t\\t\\t\\t\\t\\t\\t<label for=\"icon_prefix\">Username</label>\\n\\t\\t\\t\\t\\t\\t\\t</div>\\n\\t\\t\\t\\t\\t\\t\\t<div class=\"input-field col m10\">\\n\\t\\t\\t\\t\\t\\t\\t\\t<input id=\"icon_password\" type=\"password\" class=\"validate\">\\n\\t\\t\\t\\t\\t\\t\\t\\t<label for=\"icon_password\">Password</label>\\n\\t\\t\\t\\t\\t\\t\\t</div>\\n\\t\\t\\t\\t\\t\\t</div>\\n\\t\\t\\t\\t\\t</form>\\n\\t\\t\\t\\t\\t\\n\\t\\t\\t\\t\\t\\n\\t\\t\\t\\t\\t<div class=\"divider\"></div>\\n\\t\\t\\t\\t\\t<p>\\n\\t\\t\\t\\t\\t\\t<a href=\"#\" class=\"btn btn-flat white modal-close\">Cancel</a> &nbsp;\\n\\t\\t\\t\\t\\t\\t<a href=\"#\" class=\"waves-effect waves-blue blue btn btn-flat modal-action modal-close\">Login</a>\\n\\t\\t\\t\\t\\t</p>\\n\\t\\t\\t\\t\\t\\n\\t\\t\\t\\t\\t\\n\\t\\t\\t\\t</div>\\n\\t\\t\\t</div>\\n\\t\\t</div>\\n\\n\\n\\n\\t\\t<!--Register modal-->\\n\\t\\t\\n\\t\\t<div id=\"modalRegister\" class=\"modal\">\\n\\t\\t\\t<div class=\"modal-content\">\\n\\t\\t\\t\\t<h2 class=\"center-align\">Sign up</h2>\\n\\t\\t\\t\\t<div class=\"center-align\">\\n\\t\\t\\t\\t\\t<div class=\"divider\"></div>\\n\\t\\t\\t\\t\\t\\n\\t\\t\\t\\t\\t<form action=\"/register/\" method=post >\\n\\t\\t\\t\\t\\t\\t\\t<div class=\"input-field col\">\\n\\t\\t\\t\\t\\t\\t\\t\\t<input id=\"username\" type=\"text\" class=\"validate\">\\n\\t\\t\\t\\t\\t\\t\\t\\t<label for=\"username\">Username</label>\\n\\t\\t\\t\\t\\t\\t\\t</div>\\n\\t\\t\\t\\t\\t\\t\\t<div class=\"input-field col\">\\n\\t\\t\\t\\t\\t\\t\\t\\t<input id=\"password\" type=\"password\" class=\"validate\">\\n\\t\\t\\t\\t\\t\\t\\t\\t<label for=\"password\">Password</label>\\n\\t\\t\\t\\t\\t\\t\\t</div>\\n\\t\\t\\t\\t\\t\\t\\t<div class=\"input-field col\">\\n\\t\\t\\t\\t\\t\\t\\t\\t<input id=\"confirm\" type=\"password\" class=\"validate\">\\n\\t\\t\\t\\t\\t\\t\\t\\t<label for=\"confirm\">Repeat Password</label>\\n\\t\\t\\t\\t\\t\\t\\t</div>\\n\\t\\t\\t\\t\\t\\t\\t\\n\\t\\t\\t\\t\\t\\t\\t<div class=\"input-field col\">\\n\\t\\t\\t\\t\\t\\t\\t\\t<input id=\"email\" type=\"text\" class=\"validate\">\\n\\t\\t\\t\\t\\t\\t\\t\\t<label for=\"email\">Email</label>\\n\\t\\t\\t\\t\\t\\t\\t</div>\\n\\n\\t\\t\\t\\t\\t\\t\\t<div class=\"divider\"></div>\\n\\t\\t\\t\\t\\t\\t\\t<p>\\n\\t\\t\\t\\t\\t\\t\\t\\t<a href=\"#\" class=\"btn btn-flat white modal-close\">Cancel</a> &nbsp;\\n\\t\\t\\t\\t\\t\\t\\t\\t<button class=\"btn\" type=submit value=Register>Sign Up</button>\\n\\t\\t\\t\\t\\t\\t\\t</p>\\n\\n\\t\\t\\t\\t\\t</form>\\n\\n\\t\\t\\t\\t\\t\\n\\n\\t\\t\\t\\t</div>\\n\\t\\t\\t</div>\\n\\t\\t</div>\\n\\n\\n\\n\\n\\t\\t<script>\\n\\t\\t\\t$(document).ready(function(){\\n\\t\\t\\t\\t$(\".button-collapse\").sideNav();\\n\\t\\t\\t\\t$(\\'.modal-trigger\\').leanModal();\\n\\t\\t\\t\\t$(\\'.collapsible\\').collapsible({\\n\\t\\t\\t\\t  accordion : false // A setting that changes the collapsible behavior to expandable instead of the default accordion style\\n\\t\\t\\t\\t});\\n\\t\\t\\t\\t$(\\'#aside\\').pushpin({ top:110, bottom:500 });\\n\\t\\t  });\\n\\t\\t</script>\\n\\t\\t<script>\\n\\t\\t  $(document).ready(function(){\\n\\t\\t\\t$(\\'.collapsible\\').collapsible({\\n\\t\\t\\t  accordion : false // A setting that changes the collapsible behavior to expandable instead of the default accordion style\\n\\t\\t\\t});\\n\\t\\t\\t$(\\'select\\').material_select();\\n\\t\\t  });\\n\\t  </script>\\n\\t  <script>\\n\\t\\tfunction goBack() {\\n\\t\\t\\twindow.history.back()\\n\\t\\t}\\n\\t</script>\\n\\t\\t<script type=\"text/javascript\" src=\"/static/js/run_prettify.js\"></script>\\n\\n\\t</body>\\n\\n<footer class=\"page-footer\">\\n          <div class=\"container\">\\n            <div class=\"row\">\\n              <div class=\"col l6 s12\">\\n                <h5 class=\"white-text\">You\\'ve reached the end!</h5>\\n\\n                <p class=\"grey-text text-lighten-4\">Contact: Harrison@pythonprogramming.net.</p>\\n                <ul>\\n                  <li><a class=\"grey-text text-lighten-3\" href=\"/support-donate/\">Support this Website!</a></li>\\n                  <li><a class=\"grey-text text-lighten-3\" href=\"/consulting/\">Hire me</a></li>\\n                  <li><a class=\"grey-text text-lighten-3\" href=\"https://www.facebook.com/pythonprogramming.net/\">Facebook</a></li>\\n                  <li><a class=\"grey-text text-lighten-3\" href=\"https://twitter.com/sentdex\">Twitter</a></li>\\n                  <li><a class=\"grey-text text-lighten-3\" href=\"https://plus.google.com/+sentdex\">Google+</a></li>\\n                </ul>\\n              </div>\\n              <div class=\"col l4 offset-l2 s12\">\\n                <h6 class=\"white-text\">Legal stuff:</h6>\\n                <ul>\\n                  <li><a class=\"grey-text text-lighten-3\" href=\"/about/tos/\">Terms and Conditions</a></li>\\n                  <li><a class=\"grey-text text-lighten-3\" href=\"/about/privacy-policy/\">Privacy Policy</a></li>\\n\\n                </ul>\\n              </div>\\n            </div>\\n          </div>\\n          <a href=\"https://xkcd.com/353/\" target=\\'blank\\'><p class=\"grey-text right\" style=\\'padding-right:10px\\'>Programming is a superpower.</p></a>\\n          <div class=\"footer-copyright\">\\n            <div class=\"container\">\\n            \\xc2\\xa9 OVER 9000! PythonProgramming.net\\n\\n            </div>\\n\\n          </div>\\n        </footer>\\n\\n</html>\\n\\n\\n\\n\\n\\n\\n\\n\\n\\n\\n\\n\\n\\n\\n'\n"
     ]
    }
   ],
   "source": [
    "import urllib.request\n",
    "import urllib.parse\n",
    "\n",
    "url = 'http://pythonprogramming.net'\n",
    "values = {\n",
    "    's' : 'basic',\n",
    "    'submit' : 'search'\n",
    "}\n",
    "\n",
    "data = urllib.parse.urlencode(values)\n",
    "data = data.encode('utf-8')\n",
    "req = urllib.request.Request(url,data)\n",
    "resp = urllib.request.urlopen(req)\n",
    "respData = resp.read()\n",
    "\n",
    "print(respData)"
   ]
  },
  {
   "cell_type": "code",
   "execution_count": 46,
   "metadata": {},
   "outputs": [
    {
     "name": "stdout",
     "output_type": "stream",
     "text": [
      "HTTP Error 403: Forbidden\n"
     ]
    }
   ],
   "source": [
    "import urllib.request\n",
    "import urllib.parse\n",
    "\n",
    "try:\n",
    "    x = urllib.request.urlopen('https://www.google.com/search?q=test')\n",
    "    print(x.read())\n",
    "except Exception as e:\n",
    "    print(str(e))\n",
    "'''HTTP Error 403: Forbidden'''    \n",
    "    \n",
    "try:\n",
    "    url = 'https://www.google.com/search?q=test'\n",
    "    headers = {}\n",
    "    headers['User-Agent'] = 'Mozilla/5.0 (Linux; Android 5.0; SM-G920A) AppleWebKit (KHTML, like Gecko) Chrome Mobile Safari (compatible; AdsBot-Google-Mobile; +http://www.google.com/mobile/adsbot.html)'\n",
    "    req = urllib.request.Request(url,headers= headers)\n",
    "    resp = urllib.request.urlopen(req)\n",
    "    respData = resp.read()\n",
    "    \n",
    "    saveFile = open('withHeaders.txt','w')\n",
    "    saveFile.write(str(respData))\n",
    "    saveFile.close()\n",
    "except Exception as e:\n",
    "    print(str(e))"
   ]
  },
  {
   "cell_type": "markdown",
   "metadata": {},
   "source": [
    "Regular Expression"
   ]
  },
  {
   "cell_type": "code",
   "execution_count": 47,
   "metadata": {},
   "outputs": [
    {
     "data": {
      "text/plain": [
       "'\\nIdenifiers:\\n\\\\d -> any number\\n\\\\D -> anything but number\\n\\\\s -> space\\n\\\\S -> anything but space\\n\\\\w -> any char\\n\\\\W -> anything but char\\n. ->  any char, exxpect for a new line\\n\\x08 -> the whitespace around words\\n\\\\. -> a period\\n\\nModifiers:\\n[1,3] -> we are expecting 1-3\\n+ -> match 1 or more\\n? -> match 0 or one\\n* -> match 0 or more\\n$ -> match end of string\\n^ -> matching the beginning of a string\\n| -> either or \\n[] -> range or \"varience\" [A-Za-z1-5]\\n{x} -> expecting x amount\\n\\nWhitespace charecters:\\n\\n -> new line\\n\\\\s -> space\\n\\t -> tab\\n\\\\e -> escape\\n\\x0c -> form feed\\n\\r -> return\\n\\nDont Forget:\\n. + * ? [ ] $ ^ ( ) { } | \\\\ ==> if you wanted to use them. Please escape char\\n\\n'"
      ]
     },
     "execution_count": 47,
     "metadata": {},
     "output_type": "execute_result"
    }
   ],
   "source": [
    "'''\n",
    "Idenifiers:\n",
    "\\d -> any number\n",
    "\\D -> anything but number\n",
    "\\s -> space\n",
    "\\S -> anything but space\n",
    "\\w -> any char\n",
    "\\W -> anything but char\n",
    ". ->  any char, exxpect for a new line\n",
    "\\b -> the whitespace around words\n",
    "\\. -> a period\n",
    "\n",
    "Modifiers:\n",
    "[1,3] -> we are expecting 1-3\n",
    "+ -> match 1 or more\n",
    "? -> match 0 or one\n",
    "* -> match 0 or more\n",
    "$ -> match end of string\n",
    "^ -> matching the beginning of a string\n",
    "| -> either or \n",
    "[] -> range or \"varience\" [A-Za-z1-5]\n",
    "{x} -> expecting x amount\n",
    "\n",
    "Whitespace charecters:\n",
    "\\n -> new line\n",
    "\\s -> space\n",
    "\\t -> tab\n",
    "\\e -> escape\n",
    "\\f -> form feed\n",
    "\\r -> return\n",
    "\n",
    "Dont Forget:\n",
    ". + * ? [ ] $ ^ ( ) { } | \\ ==> if you wanted to use them. Please escape char\n",
    "\n",
    "'''"
   ]
  },
  {
   "cell_type": "code",
   "execution_count": 50,
   "metadata": {},
   "outputs": [
    {
     "name": "stdout",
     "output_type": "stream",
     "text": [
      "['15', '27', '97', '102']\n",
      "['Jassica', 'Daniel', 'Edward']\n",
      "{'Jassica': '15', 'Daniel': '27', 'Edward': '97'}\n"
     ]
    }
   ],
   "source": [
    "import re\n",
    "\n",
    "exampleString = '''\n",
    "Jassica is 15 years old, and Daniel is 27 years old.\n",
    "Edward is 97, and his grandfather, oscar, is 102\n",
    "'''\n",
    "\n",
    "ages = re.findall(r'\\d{1,3}',exampleString)\n",
    "names = re.findall(r'[A-Z][a-z]*',exampleString)\n",
    "\n",
    "print(ages)\n",
    "print(names)\n",
    "\n",
    "ageDict = {}\n",
    "x = 0\n",
    "for eachName in names:\n",
    "    ageDict[eachName] = ages[x]\n",
    "    x += 1\n",
    "print(ageDict)"
   ]
  },
  {
   "cell_type": "code",
   "execution_count": 55,
   "metadata": {},
   "outputs": [
    {
     "name": "stdout",
     "output_type": "stream",
     "text": [
      "Learn how to use Python with Pandas, Matplotlib, and other modules to gather insights from and about your data.\n",
      "Control hardware with Python programming and the Raspberry Pi.\n",
      "How to develop websites with either the Flask or Django frameworks for Python.\n",
      "Create your own games with Python\\'s PyGame library, or check out the multi-platform Kivy.\n",
      "Learn the basic and intermediate Python fundamentals.\n",
      "Just getting started?\n",
      "Not a problem, learn the basics of programming with Python 3 here!\n",
      "Create software with a user interface using Tkinter, PyQt, or Kivy.\n",
      "Curious about more than just Python? While not covered in nearly as much depth, here are some tutorials in other languages:\n",
      "Go is a programming language aimed at being simple, easy to work with, and capable of high performance.\n",
      "\\n\\t\\t\\t\\t\\t\\t<a href=\"#\" class=\"btn btn-flat white modal-close\">Cancel</a> &nbsp;\\n\\t\\t\\t\\t\\t\\t<a href=\"#\" class=\"waves-effect waves-blue blue btn btn-flat modal-action modal-close\">Login</a>\\n\\t\\t\\t\\t\\t\n",
      "\\n\\t\\t\\t\\t\\t\\t\\t\\t<a href=\"#\" class=\"btn btn-flat white modal-close\">Cancel</a> &nbsp;\\n\\t\\t\\t\\t\\t\\t\\t\\t<button class=\"btn\" type=submit value=Register>Sign Up</button>\\n\\t\\t\\t\\t\\t\\t\\t\n"
     ]
    }
   ],
   "source": [
    "import urllib.request\n",
    "import urllib.parse\n",
    "import re\n",
    "\n",
    "url = 'http://pythonprogramming.net'\n",
    "values = {'s' : 'basics', 'submit' : 'search'}\n",
    "\n",
    "data = urllib.parse.urlencode(values)\n",
    "data = data.encode('utf-8')\n",
    "req = urllib.request.Request(url,data)\n",
    "resp = urllib.request.urlopen(req)\n",
    "\n",
    "respData = resp.read()\n",
    "\n",
    "paragraphs = re.findall(r'<p>(.*?)</p>',str(respData))\n",
    "\n",
    "for para in paragraphs:\n",
    "    print(para)"
   ]
  },
  {
   "cell_type": "code",
   "execution_count": 59,
   "metadata": {},
   "outputs": [
    {
     "data": {
      "text/plain": [
       "'app = Windows(root)\\nroot.mainloop()'"
      ]
     },
     "execution_count": 59,
     "metadata": {},
     "output_type": "execute_result"
    }
   ],
   "source": [
    "from tkinter import *\n",
    "\n",
    "class Windows(Frame):\n",
    "    \n",
    "    def __init__(self, master = None):\n",
    "        Frame.__init__(self, master)\n",
    "        self.master = master\n",
    "        \n",
    "root = Tk()\n",
    "\n",
    "'''app = Windows(root)\n",
    "root.mainloop()'''"
   ]
  },
  {
   "cell_type": "markdown",
   "metadata": {},
   "source": [
    "Threading"
   ]
  },
  {
   "cell_type": "code",
   "execution_count": 1,
   "metadata": {},
   "outputs": [
    {
     "name": "stdout",
     "output_type": "stream",
     "text": [
      "Thread-5 0\n",
      "Thread-4 9Thread-7\n",
      " Thread-62\n",
      " 1\n",
      "Thread-8 3Thread-9\n",
      " Thread-124 \n",
      "Thread-107Thread-11 \n",
      " 5Thread-13 6\n",
      "8\n",
      "\n",
      "Thread-5 10Thread-4\n",
      " Thread-7 1112\n",
      "Thread-6\n",
      " 13\n",
      "Thread-8 14\n",
      "Thread-9 15\n",
      "Thread-11 18Thread-13\n",
      " Thread-1219 \n",
      "Thread-1016Entire job took:  \n",
      " 17\n",
      "1.0138750076293945\n"
     ]
    }
   ],
   "source": [
    "import threading\n",
    "from queue import Queue\n",
    "import time\n",
    "\n",
    "print_lock = threading.Lock()\n",
    "\n",
    "q = Queue()\n",
    "\n",
    "def exampleJob(worker):\n",
    "    time.sleep(0.5)\n",
    "    \n",
    "    with print_lock:\n",
    "        print(threading.current_thread().name, worker)\n",
    "        \n",
    "def threader():\n",
    "    while True:\n",
    "        worker = q.get()\n",
    "        exampleJob(worker)\n",
    "        q.task_done()\n",
    "\n",
    "for x in range(10):\n",
    "    t = threading.Thread(target = threader)\n",
    "    t.daemon = True\n",
    "    t.start()\n",
    "    \n",
    "start = time.time()\n",
    "\n",
    "for worker in range(20):\n",
    "    q.put(worker)\n",
    "\n",
    "q.join()\n",
    "\n",
    "print('Entire job took: ', time.time()-start)"
   ]
  },
  {
   "cell_type": "code",
   "execution_count": 7,
   "metadata": {},
   "outputs": [
    {
     "name": "stdout",
     "output_type": "stream",
     "text": [
      "b'GDBasic.ipynb\\nGDBasic.py\\ncolors.csv\\ngdTesting.txt\\nwithHeaders.txt\\n'\n"
     ]
    }
   ],
   "source": [
    "import subprocess\n",
    "\n",
    "subprocess.call('ls',shell = True)\n",
    "out = subprocess.check_output('ls',shell = True)\n",
    "\n",
    "print(out)"
   ]
  },
  {
   "cell_type": "code",
   "execution_count": null,
   "metadata": {},
   "outputs": [],
   "source": []
  }
 ],
 "metadata": {
  "kernelspec": {
   "display_name": "Python 3",
   "language": "python",
   "name": "python3"
  },
  "language_info": {
   "codemirror_mode": {
    "name": "ipython",
    "version": 3
   },
   "file_extension": ".py",
   "mimetype": "text/x-python",
   "name": "python",
   "nbconvert_exporter": "python",
   "pygments_lexer": "ipython3",
   "version": "3.6.2"
  }
 },
 "nbformat": 4,
 "nbformat_minor": 2
}
