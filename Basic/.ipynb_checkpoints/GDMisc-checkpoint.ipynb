{
 "cells": [
  {
   "cell_type": "markdown",
   "metadata": {},
   "source": [
    "FTP Connections"
   ]
  },
  {
   "cell_type": "code",
   "execution_count": null,
   "metadata": {},
   "outputs": [],
   "source": [
    "from ftplib import FTP\n",
    "\n",
    "ftp = FTP('domainname.com')\n",
    "ftp.login(user='username',passwd = 'password')\n",
    "ftp.cwd('/somedir/')\n",
    "\n",
    "def grabFile():\n",
    "    fileName = 'abc.file'\n",
    "    localFile = open(filename,'wb')\n",
    "    ftp.retrbinary('RETR' + filename, localFile.write, 1024)\n",
    "    ftp.quit()\n",
    "    localFile.close()\n",
    "    \n",
    "def placeFile():\n",
    "    filename = 'filename.txt'\n",
    "    ftp.storebinary('STOR' + filename, open(filename, 'rb'))\n",
    "    ftp.quit()\n"
   ]
  },
  {
   "cell_type": "markdown",
   "metadata": {},
   "source": [
    "Pickle"
   ]
  },
  {
   "cell_type": "code",
   "execution_count": 2,
   "metadata": {},
   "outputs": [],
   "source": [
    "import pickle\n",
    "\n",
    "exampleDict = {1:\"6\", 2:\"3\", 4:\"5\"}\n",
    "\n",
    "'''wb==> write bytes'''\n",
    "pickle_out = open('dict.pickle','wb')\n",
    "pickle.dump(exampleDict,pickle_out)\n",
    "pickle_out.close()"
   ]
  },
  {
   "cell_type": "code",
   "execution_count": 4,
   "metadata": {},
   "outputs": [
    {
     "name": "stdout",
     "output_type": "stream",
     "text": [
      "{1: '6', 2: '3', 4: '5'}\n"
     ]
    }
   ],
   "source": [
    "'''dict,pickle file will be created'''\n",
    "pickle_in = open('dict.pickle','rb')\n",
    "example_pickle = pickle.load(pickle_in)\n",
    "\n",
    "print(example_pickle)"
   ]
  },
  {
   "cell_type": "markdown",
   "metadata": {},
   "source": [
    "Eval"
   ]
  },
  {
   "cell_type": "code",
   "execution_count": 6,
   "metadata": {},
   "outputs": [
    {
     "name": "stdout",
     "output_type": "stream",
     "text": [
      "Display as String :  [1,2,3,4]\n",
      "Converted to list :  [1, 2, 3, 4]\n"
     ]
    }
   ],
   "source": [
    "listStr = '[1,2,3,4]'\n",
    "\n",
    "print('Display as String : ',listStr)\n",
    "print('Converted to list : ',eval(listStr))"
   ]
  },
  {
   "cell_type": "code",
   "execution_count": 10,
   "metadata": {},
   "outputs": [
    {
     "name": "stdout",
     "output_type": "stream",
     "text": [
      "Gowdhaman, This is inside exec parameter!!!\n"
     ]
    }
   ],
   "source": [
    "exec(\"print('Gowdhaman, This is inside exec parameter!!!')\")"
   ]
  },
  {
   "cell_type": "code",
   "execution_count": 11,
   "metadata": {},
   "outputs": [
    {
     "name": "stdout",
     "output_type": "stream",
     "text": [
      "[1, 2, 3, 4]\n"
     ]
    }
   ],
   "source": [
    "exec('x = [1,2,3,4]')\n",
    "print(x)"
   ]
  },
  {
   "cell_type": "code",
   "execution_count": 12,
   "metadata": {},
   "outputs": [
    {
     "name": "stdout",
     "output_type": "stream",
     "text": [
      "oooo snap!!!\n"
     ]
    }
   ],
   "source": [
    "exec(\"def test(): print('oooo snap!!!')\")\n",
    "test()"
   ]
  },
  {
   "cell_type": "code",
   "execution_count": 14,
   "metadata": {},
   "outputs": [
    {
     "name": "stdout",
     "output_type": "stream",
     "text": [
      "checking inside the multiline stuff!!!!\n"
     ]
    }
   ],
   "source": [
    "exec(\n",
    "'''\n",
    "def test():\n",
    "    print('checking inside the multiline stuff!!!!')\n",
    "'''\n",
    ")\n",
    "\n",
    "test()"
   ]
  }
 ],
 "metadata": {
  "kernelspec": {
   "display_name": "Python 3",
   "language": "python",
   "name": "python3"
  },
  "language_info": {
   "codemirror_mode": {
    "name": "ipython",
    "version": 3
   },
   "file_extension": ".py",
   "mimetype": "text/x-python",
   "name": "python",
   "nbconvert_exporter": "python",
   "pygments_lexer": "ipython3",
   "version": "3.6.2"
  }
 },
 "nbformat": 4,
 "nbformat_minor": 2
}
