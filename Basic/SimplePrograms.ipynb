{
 "cells": [
  {
   "cell_type": "markdown",
   "metadata": {},
   "source": [
    "Prime Number"
   ]
  },
  {
   "cell_type": "code",
   "execution_count": 32,
   "metadata": {},
   "outputs": [
    {
     "name": "stdout",
     "output_type": "stream",
     "text": [
      "enter the number to check if given number is prime number or not? :17\n",
      "17  is prime number\n"
     ]
    }
   ],
   "source": [
    "num = input('enter the number to check if given number is prime number or not? :')\n",
    "\n",
    "num = int(num)\n",
    "\n",
    "if num > 2:\n",
    "    for i in range(2,num):\n",
    "        if num % i == 0:\n",
    "            print(num, ' is not the prime number')\n",
    "            print(i, ' times ', num//i, ' is ', num)\n",
    "            break\n",
    "    else:\n",
    "        print(num, ' is prime number')\n",
    "else:\n",
    "    print(num, ' is prime number')"
   ]
  },
  {
   "cell_type": "markdown",
   "metadata": {},
   "source": [
    "Fibonacci series"
   ]
  },
  {
   "cell_type": "code",
   "execution_count": 11,
   "metadata": {},
   "outputs": [
    {
     "name": "stdout",
     "output_type": "stream",
     "text": [
      "enter the length of the fib series? :20\n",
      "[0, 1, 1, 2, 3, 5, 8, 13, 21, 34, 55, 89, 144, 233, 377, 610, 987, 1597, 2584, 4181]\n"
     ]
    }
   ],
   "source": [
    "n = input('enter the length of the fib series? :')\n",
    "\n",
    "num = int(n)\n",
    "fib = []\n",
    "\n",
    "#first two elements\n",
    "i = 0\n",
    "j = 1\n",
    "\n",
    "count = 0\n",
    "\n",
    "while count < num:\n",
    "    fib.append(i)\n",
    "    k = i + j\n",
    "    i = j\n",
    "    j = k\n",
    "    \n",
    "    count+=1\n",
    "    \n",
    "print(fib)"
   ]
  },
  {
   "cell_type": "markdown",
   "metadata": {},
   "source": [
    "Number of vowels in a para"
   ]
  },
  {
   "cell_type": "code",
   "execution_count": 15,
   "metadata": {},
   "outputs": [
    {
     "name": "stdout",
     "output_type": "stream",
     "text": [
      "{'a': 3, 'e': 0, 'i': 1, 'o': 1, 'u': 0}\n"
     ]
    }
   ],
   "source": [
    "s = 'I am gowdhaman'\n",
    "s = s.casefold()\n",
    "\n",
    "vowels = 'aeiou'\n",
    "count = {}.fromkeys(vowels,0)\n",
    "\n",
    "for char in s:\n",
    "    if char in count:\n",
    "        count[char] += 1\n",
    "        \n",
    "print(count)"
   ]
  },
  {
   "cell_type": "code",
   "execution_count": 31,
   "metadata": {},
   "outputs": [
    {
     "name": "stdout",
     "output_type": "stream",
     "text": [
      "moma  is not palindrome!!\n"
     ]
    }
   ],
   "source": [
    "s = 'moma'\n",
    "\n",
    "for i in range(0,int(len(s)/2)):\n",
    "    if s[i] != s[len(s)-i-1]:\n",
    "        print(s, ' is not palindrome!!')\n",
    "        break\n",
    "else:\n",
    "    print(s, ' is palindrome!!')\n",
    "        "
   ]
  },
  {
   "cell_type": "code",
   "execution_count": 37,
   "metadata": {},
   "outputs": [
    {
     "name": "stdout",
     "output_type": "stream",
     "text": [
      "malayalam  is a palindrome!!!\n"
     ]
    }
   ],
   "source": [
    "s = 'Malayalam'\n",
    "\n",
    "s = s.casefold()\n",
    "\n",
    "def reverse_string(s):\n",
    "    return s[::-1]\n",
    "\n",
    "if s == reverse_string(s):\n",
    "    print(s, ' is a palindrome!!!')\n",
    "else:\n",
    "    print(s, ' is not a palindrome!!')\n"
   ]
  },
  {
   "cell_type": "code",
   "execution_count": 48,
   "metadata": {},
   "outputs": [
    {
     "name": "stdout",
     "output_type": "stream",
     "text": [
      "enter the number to find out the factorial? :10\n",
      "facctorial for  10  is  3628800\n"
     ]
    }
   ],
   "source": [
    "#factorial of the number\n",
    "def fact(n):\n",
    "    if n == 1:\n",
    "        return n\n",
    "    else:\n",
    "        return n * fact(n-1)\n",
    "\n",
    "try:\n",
    "    \n",
    "    num = int(input('enter the number to find out the factorial? :'))\n",
    "\n",
    "    if num < 0:\n",
    "        print('There is no factorial for negative number')\n",
    "    elif num == 0:\n",
    "        print('factorial for number 0 is 1')\n",
    "    else:\n",
    "        print('facctorial for ', num, ' is ', fact(num))\n",
    "except Exception as e:\n",
    "    print(e)"
   ]
  },
  {
   "cell_type": "code",
   "execution_count": 51,
   "metadata": {},
   "outputs": [
    {
     "data": {
      "text/plain": [
       "2"
      ]
     },
     "execution_count": 51,
     "metadata": {},
     "output_type": "execute_result"
    }
   ],
   "source": [
    "25 // 10"
   ]
  }
 ],
 "metadata": {
  "kernelspec": {
   "display_name": "Python 3",
   "language": "python",
   "name": "python3"
  },
  "language_info": {
   "codemirror_mode": {
    "name": "ipython",
    "version": 3
   },
   "file_extension": ".py",
   "mimetype": "text/x-python",
   "name": "python",
   "nbconvert_exporter": "python",
   "pygments_lexer": "ipython3",
   "version": "3.6.2"
  }
 },
 "nbformat": 4,
 "nbformat_minor": 2
}
