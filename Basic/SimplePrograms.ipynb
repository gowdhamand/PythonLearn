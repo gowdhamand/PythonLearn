{
 "cells": [
  {
   "cell_type": "markdown",
   "metadata": {},
   "source": [
    "Prime Number"
   ]
  },
  {
   "cell_type": "code",
   "execution_count": 12,
   "metadata": {},
   "outputs": [
    {
     "name": "stdout",
     "output_type": "stream",
     "text": [
      "['09:14:16', '18:10:48', '16:10:39', '15:46:24', '15:03:18', '14:50:18', '11:37:30', '11:35:08', '11:12:37', '11:11:52', '11:11:03', '11:10:22', '10:38:42', '10:17:43', '10:04:14', '09:05:31', '07:02:32', '06:08:27', '04:49:08', '04:33:44', '04:07:34', '19:51:21', '17:18:23', '17:07:00', '16:34:40', '16:29:07', '16:23:48']\n"
     ]
    }
   ],
   "source": [
    "f = open('mbox-short.txt')\n",
    "\n",
    "words = []\n",
    "for x in f:\n",
    "    if x.startswith('From'):\n",
    "        w = x.split()\n",
    "        if len(w) > 5:\n",
    "            words.append(w[5])\n",
    "\n",
    "print(words)"
   ]
  },
  {
   "cell_type": "code",
   "execution_count": 32,
   "metadata": {},
   "outputs": [
    {
     "name": "stdout",
     "output_type": "stream",
     "text": [
      "enter the number to check if given number is prime number or not? :17\n",
      "17  is prime number\n"
     ]
    }
   ],
   "source": [
    "num = input('enter the number to check if given number is prime number or not? :')\n",
    "\n",
    "num = int(num)\n",
    "\n",
    "if num > 2:\n",
    "    for i in range(2,num):\n",
    "        if num % i == 0:\n",
    "            print(num, ' is not the prime number')\n",
    "            print(i, ' times ', num//i, ' is ', num)\n",
    "            break\n",
    "    else:\n",
    "        print(num, ' is prime number')\n",
    "else:\n",
    "    print(num, ' is prime number')"
   ]
  },
  {
   "cell_type": "markdown",
   "metadata": {},
   "source": [
    "Fibonacci series"
   ]
  },
  {
   "cell_type": "code",
   "execution_count": 11,
   "metadata": {},
   "outputs": [
    {
     "name": "stdout",
     "output_type": "stream",
     "text": [
      "enter the length of the fib series? :20\n",
      "[0, 1, 1, 2, 3, 5, 8, 13, 21, 34, 55, 89, 144, 233, 377, 610, 987, 1597, 2584, 4181]\n"
     ]
    }
   ],
   "source": [
    "n = input('enter the length of the fib series? :')\n",
    "\n",
    "num = int(n)\n",
    "fib = []\n",
    "\n",
    "#first two elements\n",
    "i = 0\n",
    "j = 1\n",
    "\n",
    "count = 0\n",
    "\n",
    "while count < num:\n",
    "    fib.append(i)\n",
    "    k = i + j\n",
    "    i = j\n",
    "    j = k\n",
    "    \n",
    "    count+=1\n",
    "    \n",
    "print(fib)"
   ]
  },
  {
   "cell_type": "markdown",
   "metadata": {},
   "source": [
    "Number of vowels in a para"
   ]
  },
  {
   "cell_type": "code",
   "execution_count": 15,
   "metadata": {},
   "outputs": [
    {
     "name": "stdout",
     "output_type": "stream",
     "text": [
      "{'a': 3, 'e': 0, 'i': 1, 'o': 1, 'u': 0}\n"
     ]
    }
   ],
   "source": [
    "s = 'I am gowdhaman'\n",
    "s = s.casefold()\n",
    "\n",
    "vowels = 'aeiou'\n",
    "count = {}.fromkeys(vowels,0)\n",
    "\n",
    "for char in s:\n",
    "    if char in count:\n",
    "        count[char] += 1\n",
    "        \n",
    "print(count)"
   ]
  },
  {
   "cell_type": "code",
   "execution_count": 31,
   "metadata": {},
   "outputs": [
    {
     "name": "stdout",
     "output_type": "stream",
     "text": [
      "moma  is not palindrome!!\n"
     ]
    }
   ],
   "source": [
    "s = 'moma'\n",
    "\n",
    "for i in range(0,int(len(s)/2)):\n",
    "    if s[i] != s[len(s)-i-1]:\n",
    "        print(s, ' is not palindrome!!')\n",
    "        break\n",
    "else:\n",
    "    print(s, ' is palindrome!!')\n",
    "        "
   ]
  },
  {
   "cell_type": "code",
   "execution_count": 37,
   "metadata": {},
   "outputs": [
    {
     "name": "stdout",
     "output_type": "stream",
     "text": [
      "malayalam  is a palindrome!!!\n"
     ]
    }
   ],
   "source": [
    "s = 'Malayalam'\n",
    "\n",
    "s = s.casefold()\n",
    "\n",
    "def reverse_string(s):\n",
    "    return s[::-1]\n",
    "\n",
    "if s == reverse_string(s):\n",
    "    print(s, ' is a palindrome!!!')\n",
    "else:\n",
    "    print(s, ' is not a palindrome!!')\n"
   ]
  },
  {
   "cell_type": "code",
   "execution_count": 48,
   "metadata": {},
   "outputs": [
    {
     "name": "stdout",
     "output_type": "stream",
     "text": [
      "enter the number to find out the factorial? :10\n",
      "facctorial for  10  is  3628800\n"
     ]
    }
   ],
   "source": [
    "#factorial of the number\n",
    "def fact(n):\n",
    "    if n == 1:\n",
    "        return n\n",
    "    else:\n",
    "        return n * fact(n-1)\n",
    "\n",
    "try:\n",
    "    \n",
    "    num = int(input('enter the number to find out the factorial? :'))\n",
    "\n",
    "    if num < 0:\n",
    "        print('There is no factorial for negative number')\n",
    "    elif num == 0:\n",
    "        print('factorial for number 0 is 1')\n",
    "    else:\n",
    "        print('facctorial for ', num, ' is ', fact(num))\n",
    "except Exception as e:\n",
    "    print(e)"
   ]
  },
  {
   "cell_type": "code",
   "execution_count": 13,
   "metadata": {},
   "outputs": [
    {
     "name": "stdout",
     "output_type": "stream",
     "text": [
      "[['977175138', '523647968'], ['958964458', '525879903'], ['95567418', '163424206'], ['89779405', '844288987'], ['873955477', '450413794'], ['7616943', '842564675'], ['689471337', '580279579'], ['665431604', '107866412'], ['664237570', '288339955'], ['623075369', '146360674'], ['575682685', '33126205'], ['572747824', '834468627'], ['328743490', '207620319'], ['315386742', '528392695'], ['29325493', '491963279']]\n"
     ]
    }
   ],
   "source": [
    "from operator import itemgetter\n",
    "\n",
    "c = [['29325493', '491963279'], ['665431604', '107866412'], ['572747824', '834468627'], ['623075369', '146360674'], ['958964458', '525879903'], ['977175138', '523647968'], ['689471337', '580279579'], ['664237570', '288339955'], ['328743490', '207620319'], ['315386742', '528392695'], ['95567418', '163424206'], ['873955477', '450413794'], ['7616943', '842564675'], ['575682685', '33126205'], ['89779405', '844288987']]\n",
    "\n",
    "c.sort(key=itemgetter(0),reverse=True)\n",
    "print(c)"
   ]
  },
  {
   "cell_type": "code",
   "execution_count": 14,
   "metadata": {},
   "outputs": [
    {
     "data": {
      "text/plain": [
       "[['29325493', '491963279'],\n",
       " ['315386742', '528392695'],\n",
       " ['328743490', '207620319'],\n",
       " ['572747824', '834468627'],\n",
       " ['575682685', '33126205'],\n",
       " ['623075369', '146360674'],\n",
       " ['664237570', '288339955'],\n",
       " ['665431604', '107866412'],\n",
       " ['689471337', '580279579'],\n",
       " ['7616943', '842564675'],\n",
       " ['873955477', '450413794'],\n",
       " ['89779405', '844288987'],\n",
       " ['95567418', '163424206'],\n",
       " ['958964458', '525879903'],\n",
       " ['977175138', '523647968']]"
      ]
     },
     "execution_count": 14,
     "metadata": {},
     "output_type": "execute_result"
    }
   ],
   "source": [
    "sorted(c)"
   ]
  },
  {
   "cell_type": "code",
   "execution_count": 55,
   "metadata": {},
   "outputs": [
    {
     "name": "stdout",
     "output_type": "stream",
     "text": [
      "    subject               rate\n",
      "0    ['a','b','c']        0.11\n",
      "1     ['a','d','c']        0.3\n",
      "2    ['c','e']            0.07\n",
      "3  ['f','g','h','i']    0.18  \n",
      "['a', 'b', 'c'] 0.11\n",
      "['a', 'd', 'c'] 0.3\n",
      "['c', 'e'] 0.07\n",
      "['f', 'g', 'h', 'i'] \n"
     ]
    }
   ],
   "source": [
    "import pandas as pd\n",
    "\n",
    "df = pd.read_csv('subject_file.txt',delimiter='\\t')\n",
    "print(df)\n",
    "df.columns = ['subject_data']\n",
    "\n",
    "dict_out = {}\n",
    "\n",
    "for i in df['subject_data']:\n",
    "    x = i.split(' ')\n",
    "    l = eval(x[0])\n",
    "    rate = x[-1]\n",
    "    print(l, rate)\n",
    "#     for y in l:\n",
    "#         print(y,rate)\n",
    "        \n",
    "        "
   ]
  }
 ],
 "metadata": {
  "kernelspec": {
   "display_name": "Python 3",
   "language": "python",
   "name": "python3"
  },
  "language_info": {
   "codemirror_mode": {
    "name": "ipython",
    "version": 3
   },
   "file_extension": ".py",
   "mimetype": "text/x-python",
   "name": "python",
   "nbconvert_exporter": "python",
   "pygments_lexer": "ipython3",
   "version": "3.6.2"
  }
 },
 "nbformat": 4,
 "nbformat_minor": 2
}
