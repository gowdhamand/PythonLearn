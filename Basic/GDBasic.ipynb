{
 "cells": [
  {
   "cell_type": "markdown",
   "metadata": {},
   "source": [
    "Function Testing"
   ]
  },
  {
   "cell_type": "code",
   "execution_count": 1,
   "metadata": {},
   "outputs": [
    {
     "name": "stdout",
     "output_type": "stream",
     "text": [
      "10 + 2 = 12\n",
      "10 - 2 = 8\n",
      "10 * 2 = 100\n",
      "10 / 2 = 5.0\n"
     ]
    }
   ],
   "source": [
    "def add(x,y):\n",
    "    return x + y\n",
    "\n",
    "def sub(x,y):\n",
    "    return x - y\n",
    "\n",
    "def mul(x,y):\n",
    "    return x * x\n",
    "\n",
    "def div(x,y):\n",
    "    if y == 0:\n",
    "        print('Y cant be zero')\n",
    "        return 0\n",
    "    else:\n",
    "        return x/y\n",
    "    \n",
    "    \n",
    "x = 10\n",
    "y = 2\n",
    "\n",
    "print(x , '+' , y , '=' , add(x,y))\n",
    "print(x , '-' , y , '=' , sub(x,y))\n",
    "print(x , '*' , y , '=' , mul(x,y))\n",
    "print(x , '/' , y , '=' , div(x,y))"
   ]
  },
  {
   "cell_type": "markdown",
   "metadata": {},
   "source": [
    "Loop Learn Testing"
   ]
  },
  {
   "cell_type": "code",
   "execution_count": 2,
   "metadata": {},
   "outputs": [
    {
     "name": "stdout",
     "output_type": "stream",
     "text": [
      "0\n",
      "1\n",
      "2\n",
      "3\n",
      "4\n"
     ]
    }
   ],
   "source": [
    "def numReturn():\n",
    "    i = 0;\n",
    "    while i < 5:\n",
    "        print(i);\n",
    "        i += 1;\n",
    "        \n",
    "numReturn()"
   ]
  },
  {
   "cell_type": "code",
   "execution_count": 3,
   "metadata": {},
   "outputs": [
    {
     "name": "stdout",
     "output_type": "stream",
     "text": [
      "gowdhaman\n",
      "karthiga\n",
      "shaara\n",
      "1\n",
      "2\n",
      "3\n",
      "4\n",
      "5\n",
      "6\n",
      "7\n",
      "8\n",
      "9\n",
      "10\n"
     ]
    }
   ],
   "source": [
    "def forLoopTesting(sList):\n",
    "    for x in sList:\n",
    "        print(x)\n",
    "\n",
    "x = ['gowdhaman', 'karthiga', 'shaara']\n",
    "forLoopTesting(x)\n",
    "\n",
    "'''Testing range'''\n",
    "for z in range(1,11):\n",
    "    print(z)"
   ]
  },
  {
   "cell_type": "markdown",
   "metadata": {},
   "source": [
    "Some File Operation"
   ]
  },
  {
   "cell_type": "code",
   "execution_count": 4,
   "metadata": {},
   "outputs": [],
   "source": [
    "text = 'Gowdhaman! Please write some file. Following line is going to be new line \\n This is going to be new file'\n",
    "\n",
    "\n",
    "'''writing to a file'''\n",
    "saveFile = open('gdTesting.txt','w')\n",
    "saveFile.write(text)\n",
    "saveFile.close()\n"
   ]
  },
  {
   "cell_type": "code",
   "execution_count": 5,
   "metadata": {},
   "outputs": [],
   "source": [
    "'''appending someting to a file'''\n",
    "appendMe = '\\nI am adding more information to a file'\n",
    "\n",
    "appendFile = open('gdTesting.txt','a')\n",
    "appendFile.write(appendMe)\n",
    "appendFile.close()"
   ]
  },
  {
   "cell_type": "code",
   "execution_count": 6,
   "metadata": {},
   "outputs": [
    {
     "name": "stdout",
     "output_type": "stream",
     "text": [
      "Gowdhaman! Please write some file. Following line is going to be new line \n",
      " This is going to be new file\n",
      "I am adding more information to a file\n",
      "['Gowdhaman! Please write some file. Following line is going to be new line \\n', ' This is going to be new file\\n', 'I am adding more information to a file']\n"
     ]
    }
   ],
   "source": [
    "'''read from a file'''\n",
    "readMe = open('gdTesting.txt','r').read()\n",
    "print(readMe)\n",
    "\n",
    "'''read to list'''\n",
    "readList = open('gdTesting.txt','r').readlines()\n",
    "print(readList)"
   ]
  },
  {
   "cell_type": "markdown",
   "metadata": {},
   "source": [
    "Creating Class"
   ]
  },
  {
   "cell_type": "code",
   "execution_count": 7,
   "metadata": {},
   "outputs": [
    {
     "name": "stdout",
     "output_type": "stream",
     "text": [
      "30\n",
      "-10\n"
     ]
    }
   ],
   "source": [
    "class calculator:\n",
    "    \n",
    "    def add(x,y):\n",
    "        return x + y\n",
    "\n",
    "    def sub(x,y):\n",
    "        return x - y\n",
    "\n",
    "    def mul(x,y):\n",
    "        return x * x\n",
    "\n",
    "    def div(x,y):\n",
    "        if y == 0:\n",
    "            print('Y cant be zero')\n",
    "            return 0\n",
    "        else:\n",
    "            return x/y\n",
    "        \n",
    "print(calculator.add(10,20))\n",
    "print(calculator.sub(10,20))"
   ]
  },
  {
   "cell_type": "code",
   "execution_count": 8,
   "metadata": {},
   "outputs": [
    {
     "name": "stdout",
     "output_type": "stream",
     "text": [
      "what is your name?Gowdhaman\n",
      "Hello Gowdhaman\n"
     ]
    }
   ],
   "source": [
    "'''get user input'''\n",
    "x = input('what is your name?')\n",
    "print('Hello', x)"
   ]
  },
  {
   "cell_type": "markdown",
   "metadata": {},
   "source": [
    "Basic Statistics Stuff (Mean, Standard dev)"
   ]
  },
  {
   "cell_type": "code",
   "execution_count": 9,
   "metadata": {},
   "outputs": [
    {
     "name": "stdout",
     "output_type": "stream",
     "text": [
      "Mean : 3.5\n",
      "Median : 2.0\n",
      "StdDev : 2.9076701075853593\n",
      "varience 8.454545454545455\n"
     ]
    }
   ],
   "source": [
    "import statistics\n",
    "\n",
    "exampleList = [1,2,3,4,9,10,2, 3,2,2,2,2]\n",
    "\n",
    "print('Mean :',statistics.mean(exampleList))\n",
    "print('Median :',statistics.median(exampleList))\n",
    "print('StdDev :',statistics.stdev(exampleList))\n",
    "print('varience',statistics.variance(exampleList))"
   ]
  },
  {
   "cell_type": "markdown",
   "metadata": {},
   "source": [
    "Creating and importing modules"
   ]
  },
  {
   "cell_type": "code",
   "execution_count": 10,
   "metadata": {},
   "outputs": [
    {
     "name": "stdout",
     "output_type": "stream",
     "text": [
      "3.6.2 (default, Jul 17 2017, 16:44:45) \n",
      "[GCC 4.2.1 Compatible Apple LLVM 8.1.0 (clang-802.0.42)]\n"
     ]
    }
   ],
   "source": [
    "import sys\n",
    "\n",
    "print(sys.version)"
   ]
  },
  {
   "cell_type": "code",
   "execution_count": 11,
   "metadata": {},
   "outputs": [
    {
     "name": "stdout",
     "output_type": "stream",
     "text": [
      "Mean : 3.5\n",
      "Median : 2.0\n",
      "StdDev : 2.9076701075853593\n",
      "varience 8.454545454545455\n"
     ]
    }
   ],
   "source": [
    "import statistics as s\n",
    "\n",
    "exampleList = [1,2,3,4,9,10,2, 3,2,2,2,2]\n",
    "\n",
    "print('Mean :',s.mean(exampleList))\n",
    "print('Median :',s.median(exampleList))\n",
    "print('StdDev :',s.stdev(exampleList))\n",
    "print('varience',s.variance(exampleList))"
   ]
  },
  {
   "cell_type": "code",
   "execution_count": 12,
   "metadata": {},
   "outputs": [
    {
     "name": "stdout",
     "output_type": "stream",
     "text": [
      "0.5\n"
     ]
    }
   ],
   "source": [
    "'''if we dont wanted to reference is eachtime'''\n",
    "from statistics import variance\n",
    "\n",
    "exampleList = [1,2]\n",
    "print(variance(exampleList))"
   ]
  },
  {
   "cell_type": "code",
   "execution_count": 14,
   "metadata": {},
   "outputs": [
    {
     "name": "stdout",
     "output_type": "stream",
     "text": [
      "variance : 0.5\n",
      "mean : 1.5\n",
      "###########\n",
      "variance : 0.5\n",
      "mean : 1.5\n"
     ]
    }
   ],
   "source": [
    "'''if we want more stuff'''\n",
    "from statistics import variance as v, mean\n",
    "\n",
    "exampleList = [1,2]\n",
    "print('variance :',variance(exampleList))\n",
    "print('mean :',mean(exampleList))\n",
    "\n",
    "'''with ref'''\n",
    "print('###########')\n",
    "print('variance :',v(exampleList))\n",
    "print('mean :',m(exampleList))"
   ]
  },
  {
   "cell_type": "markdown",
   "metadata": {},
   "source": [
    "List and Tuples"
   ]
  },
  {
   "cell_type": "code",
   "execution_count": 15,
   "metadata": {},
   "outputs": [
    {
     "name": "stdout",
     "output_type": "stream",
     "text": [
      "2\n"
     ]
    },
    {
     "data": {
      "text/plain": [
       "'if you wanted to create immutable stuff...you can create using tuple...list can be mutable'"
      ]
     },
     "execution_count": 15,
     "metadata": {},
     "output_type": "execute_result"
    }
   ],
   "source": [
    "'''Tuples'''\n",
    "x = 1,2,3,4\n",
    "x = (1,2,3,4)\n",
    "\n",
    "'''List'''\n",
    "y = [1,2,3,4]\n",
    "\n",
    "print(x[1])\n",
    "\n",
    "'''Tuples can be generated faster and iterated fater'''\n",
    "\n",
    "'''example of tuple'''\n",
    "def exampleFunction():\n",
    "    return 1,2\n",
    "\n",
    "x,y = exampleFunction()\n",
    "\n",
    "'''if you wanted to create immutable stuff...you can create using tuple...list can be mutable'''"
   ]
  },
  {
   "cell_type": "code",
   "execution_count": 16,
   "metadata": {},
   "outputs": [
    {
     "name": "stdout",
     "output_type": "stream",
     "text": [
      "[1, 2, 3, 3, 4, 1, 2, 3, 3, 4, 5, 5, 5, 7, 2]\n",
      "index of 5 : 1\n",
      "index of last element : 2\n",
      "index of last 2nd element : 7\n",
      "Eelement from 1:5 : [2, 3, 3, 4]\n",
      "Eelement from 1: : [1, 2, 3, 3, 4, 5, 5, 5, 7, 2]\n",
      "Index of which provides you the position : 0\n",
      "Count number of 2 in list : 3\n",
      "Sorting the list : [1, 1, 2, 2, 2, 3, 3, 3, 3, 4, 4, 5, 5, 5, 7]\n"
     ]
    }
   ],
   "source": [
    "x = [1,2,3,3,4,1,2,3,3,4,5,5,5,7]\n",
    "\n",
    "'''add something'''\n",
    "x.append(2)\n",
    "\n",
    "'''insert--> first param is position and 2nd one is the value'''\n",
    "x.insert(2,99)\n",
    "\n",
    "'''remove--> give element position'''\n",
    "'''x.remove(0) is not working'''\n",
    "x.remove(x[2])\n",
    "\n",
    "\n",
    "print(x)\n",
    "print('index of 5 :',x[5])\n",
    "print('index of last element :', x[-1])\n",
    "print('index of last 2nd element :', x[-2])\n",
    "print('Eelement from 1:5 :', x[1:5])\n",
    "print('Eelement from 1: :', x[5:])\n",
    "print('Index of which provides you the position :', x.index(1))\n",
    "print('Count number of 2 in list :', x.count(2))\n",
    "x.sort()\n",
    "print('Sorting the list :', x)"
   ]
  },
  {
   "cell_type": "code",
   "execution_count": 17,
   "metadata": {},
   "outputs": [
    {
     "name": "stdout",
     "output_type": "stream",
     "text": [
      "['Gowdhaman', 'Karthiga', 'Shaara']\n"
     ]
    }
   ],
   "source": [
    "y = ['Gowdhaman', 'Shaara', 'Karthiga']\n",
    "\n",
    "y.sort()\n",
    "print(y)"
   ]
  },
  {
   "cell_type": "code",
   "execution_count": 18,
   "metadata": {},
   "outputs": [
    {
     "name": "stdout",
     "output_type": "stream",
     "text": [
      "gdTesting\n"
     ]
    }
   ],
   "source": [
    "print('gdTesting')"
   ]
  },
  {
   "cell_type": "code",
   "execution_count": null,
   "metadata": {},
   "outputs": [],
   "source": []
  }
 ],
 "metadata": {
  "kernelspec": {
   "display_name": "Python 3",
   "language": "python",
   "name": "python3"
  },
  "language_info": {
   "codemirror_mode": {
    "name": "ipython",
    "version": 3
   },
   "file_extension": ".py",
   "mimetype": "text/x-python",
   "name": "python",
   "nbconvert_exporter": "python",
   "pygments_lexer": "ipython3",
   "version": "3.6.2"
  }
 },
 "nbformat": 4,
 "nbformat_minor": 2
}
